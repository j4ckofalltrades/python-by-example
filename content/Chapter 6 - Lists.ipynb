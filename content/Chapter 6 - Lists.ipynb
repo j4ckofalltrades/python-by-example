{
 "cells": [
  {
   "cell_type": "markdown",
   "metadata": {},
   "source": [
    "# Lists\n",
    "\n",
    "## Type Hints"
   ]
  },
  {
   "cell_type": "code",
   "execution_count": null,
   "metadata": {},
   "source": [
    "# Support for type hints added in version 3.5.\n",
    "\n",
    "# The function `surface_area_of_cube` takes an argument\n",
    "# expected to be an instance of `float`.\n",
    "# The function is expected to return an instance\n",
    "# of `str`, as indicated by the `-> str` hint.\n",
    "def surface_area_of_cube(edge_length: float) -> str:\n",
    "    return f\"The surface area is {6 * edge_length ** 2}.\"\n",
    "\n",
    "# Type hints don't affect runtime behavior but help with documentation and tools\n",
    "print(surface_area_of_cube(3.0))  # Works with float as expected\n",
    "print(surface_area_of_cube(5))    # Also works with int (type hints don't enforce types)"
   ],
   "outputs": []
  },
  {
   "cell_type": "markdown",
   "metadata": {},
   "source": [
    "## Lists\n",
    "\n",
    "A list is an ordered collection of arbitrary objects. Lists are defined in Python by enclosing a comma-separated sequence of objects in square brackets (`[]`).\n",
    "\n",
    "### Lists Can Contain Arbitrary Objects"
   ]
  },
  {
   "cell_type": "code",
   "execution_count": null,
   "metadata": {},
   "source": [
    "# The elements of a list can all be the same type:\n",
    "a = [2, 4, 6, 8]\n",
    "print(a) # [2, 4, 6, 8]\n",
    "\n",
    "# Or the elements can be of varying types:\n",
    "b = [21.42, 'foobar', 3, 4, 'bark', False, 3.14159]\n",
    "print(b)\n",
    "# [21.42, 'foobar', 3, 4, 'bark', False, 3.14159]"
   ],
   "outputs": []
  },
  {
   "cell_type": "markdown",
   "metadata": {},
   "source": [
    "### List Items Can Be Accessed by Index"
   ]
  },
  {
   "cell_type": "code",
   "execution_count": null,
   "metadata": {},
   "source": [
    "# Individual elements in a list can be accessed using an index in square brackets. \n",
    "# List indexing is zero-based.\n",
    "\n",
    "a = ['foo', 'bar', 'baz', 'qux', 'quux', 'corge']\n",
    "print(a[0]) # => 'foo'\n",
    "print(a[2]) # => 'baz'\n",
    "print(a[5]) # => 'corge'\n",
    "\n",
    "# Negative indices count from the end\n",
    "print(a[-1])  # => 'corge' (last element)\n",
    "print(a[-2])  # => 'quux' (second-to-last element)"
   ],
   "outputs": []
  },
  {
   "cell_type": "code",
   "execution_count": null,
   "metadata": {},
   "source": [
    "# Looking out of bounds is an IndexError\n",
    "try:\n",
    "    print(a[6])  # This will raise an IndexError\n",
    "except IndexError as e:\n",
    "    print(f\"Error: {e}\")"
   ],
   "outputs": []
  },
  {
   "cell_type": "markdown",
   "metadata": {},
   "source": [
    "### Lists Can Be Nested"
   ]
  },
  {
   "cell_type": "code",
   "execution_count": null,
   "metadata": {},
   "source": [
    "li = [\n",
    "    1,\n",
    "    [1, 2, 3],\n",
    "    5,\n",
    "]\n",
    "\n",
    "print(li[0])      # => 1 (first element)\n",
    "print(li[1])      # => [1, 2, 3] (second element, which is a list)\n",
    "print(li[1][2])   # => 3 (third element of the nested list)"
   ],
   "outputs": []
  },
  {
   "cell_type": "markdown",
   "metadata": {},
   "source": [
    "### Lists Are Mutable"
   ]
  },
  {
   "cell_type": "code",
   "execution_count": null,
   "metadata": {},
   "source": [
    "a = ['foo', 'bar', 'baz', 'qux', 'quux', 'corge']\n",
    "print(\"Original list:\", a)\n",
    "\n",
    "a[2] = 10\n",
    "a[-1] = 20\n",
    "print(\"Modified list:\", a)\n",
    "# ['foo', 'bar', 10, 'qux', 'quux', 20]"
   ],
   "outputs": []
  },
  {
   "cell_type": "markdown",
   "metadata": {},
   "source": [
    "### Slices"
   ]
  },
  {
   "cell_type": "code",
   "execution_count": null,
   "metadata": {},
   "source": [
    "# You can look at ranges with slice syntax.\n",
    "# The start index is included, the end index is not\n",
    "# (It's a closed/open range for you mathy types.)\n",
    "li = [1, 2, 3, 4]\n",
    "\n",
    "# Use any combination of these to make advanced slices\n",
    "# li[start : end : step]\n",
    "print(li[1:3])   # index 1 to 3 => [2, 3]\n",
    "print(li[2:])    # start from index 2 => [3, 4]\n",
    "print(li[:3])    # from start until index 3  => [1, 2, 3]\n",
    "print(li[::2])   # step size of 2 => [1, 3]\n",
    "print(li[::-1])  # reverse order => [4, 3, 2, 1]"
   ],
   "outputs": []
  },
  {
   "cell_type": "markdown",
   "metadata": {},
   "source": [
    "### List Operations"
   ]
  },
  {
   "cell_type": "code",
   "execution_count": null,
   "metadata": {},
   "source": [
    "li = []\n",
    "print(\"Empty list:\", li)\n",
    "\n",
    "# Add stuff to the end of a list with append\n",
    "li.append(1)    # li is now [1]\n",
    "li.append(2)    # li is now [1, 2]\n",
    "print(\"After appending 1 and 2:\", li)\n",
    "\n",
    "# Add multiple items with extend\n",
    "li.extend([3, 4]) # li is now [1, 2, 3, 4]\n",
    "print(\"After extending with [3, 4]:\", li)\n",
    "\n",
    "# Remove from the end with pop\n",
    "popped = li.pop()        # => 4 and li is now [1, 2, 3]\n",
    "print(\"Popped value:\", popped)\n",
    "print(\"After popping:\", li)\n",
    "\n",
    "# Or remove a specific element by providing an index \n",
    "popped_at_index = li.pop(1)       # => 2 and li is now [1, 3]\n",
    "print(\"Popped value at index 1:\", popped_at_index)\n",
    "print(\"After popping at index 1:\", li)"
   ],
   "outputs": []
  },
  {
   "cell_type": "markdown",
   "metadata": {},
   "source": [
    "### List Operations (cont. 1)"
   ]
  },
  {
   "cell_type": "code",
   "execution_count": null,
   "metadata": {},
   "source": [
    "a = ['foo', 'bar', 'baz', 'qux', 'quux', 'corge']\n",
    "\n",
    "# Check for \"membership\" i.e. is item in or not in the list\n",
    "print(\"Is 'qux' in the list?:\", \"qux\" in a)      # => True\n",
    "print(\"Is 'thud' not in the list?:\", \"thud\" not in a) # => True\n",
    "\n",
    "# Returns the size of the list\n",
    "print(\"Size of the list:\", len(a)) # 6"
   ],
   "outputs": []
  }
 ],
 "metadata": {
  "kernelspec": {
   "display_name": "Python (Pyodide)",
   "language": "python",
   "name": "python"
  },
  "language_info": {
   "codemirror_mode": {
    "name": "python",
    "version": 3
   },
   "file_extension": ".py",
   "mimetype": "text/x-python",
   "name": "python",
   "nbconvert_exporter": "python",
   "pygments_lexer": "ipython3",
   "version": "3.9.5"
  }
 },
 "nbformat": 4,
 "nbformat_minor": 4
}
