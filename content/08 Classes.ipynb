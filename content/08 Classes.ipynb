{
 "cells": [
  {
   "cell_type": "markdown",
   "metadata": {},
   "source": [
    "# Classes\n",
    "\n",
    "A class is a blueprint for creating objects. Let's create a simple `Dog` class:"
   ]
  },
  {
   "cell_type": "code",
   "execution_count": null,
   "metadata": {},
   "source": [
    "class Dog:\n",
    "    # Class attribute\n",
    "    species = \"Canis familiaris\"\n",
    "\n",
    "    # Constructor containing instance attributes\n",
    "    def __init__(self, name, age):\n",
    "        self.name = name\n",
    "        self.age = age\n",
    "\n",
    "    # Instance method\n",
    "    def speak(self, sound):\n",
    "        return f\"{self.name} says {sound}\""
   ],
   "outputs": []
  },
  {
   "cell_type": "markdown",
   "metadata": {},
   "source": [
    "### Instances\n",
    "\n",
    "Now, let's create some instances of our `Dog` class and use them:"
   ]
  },
  {
   "cell_type": "code",
   "execution_count": null,
   "metadata": {},
   "source": [
    "# Instance attributes are unique to each instance of an object\n",
    "miles = Dog(\"Miles\", 4)\n",
    "print(miles.speak(\"Woof\"))\n",
    "\n",
    "buddy = Dog(\"Buddy\", 9)\n",
    "print(buddy.speak(\"Bow wow\"))\n",
    "\n",
    "# Class attributes are the same for all instances\n",
    "print(f\"{miles.name}'s species: {miles.species}\")\n",
    "print(f\"{buddy.name}'s species: {buddy.species}\")"
   ],
   "outputs": []
  },
  {
   "cell_type": "markdown",
   "metadata": {},
   "source": [
    "### `__str__` and other *dunder methods*\n",
    "\n",
    "Special methods in Python (also called \"dunder methods\" for \"double underscore\") provide a way to define how objects of your class behave with built-in Python operations."
   ]
  },
  {
   "cell_type": "code",
   "execution_count": null,
   "metadata": {},
   "source": [
    "# Without a __str__ method\n",
    "miles = Dog(\"Miles\", 4)\n",
    "print(miles)  # Output will be something like <__main__.Dog object at 0x00aeff70>"
   ],
   "outputs": []
  },
  {
   "cell_type": "code",
   "execution_count": null,
   "metadata": {},
   "source": [
    "# Let's add a __str__ method to our Dog class\n",
    "class Dog:\n",
    "    # Class attribute\n",
    "    species = \"Canis familiaris\"\n",
    "\n",
    "    # Constructor containing instance attributes\n",
    "    def __init__(self, name, age):\n",
    "        self.name = name\n",
    "        self.age = age\n",
    "\n",
    "    # Instance method\n",
    "    def speak(self, sound):\n",
    "        return f\"{self.name} says {sound}\"\n",
    "    \n",
    "    # String representation\n",
    "    def __str__(self):\n",
    "        return f\"{self.name} is {self.age} years old\"\n",
    "\n",
    "# Now when we print a Dog object, it will show our custom string\n",
    "miles = Dog(\"Miles\", 4)\n",
    "print(miles)  # Now prints: Miles is 4 years old"
   ],
   "outputs": []
  },
  {
   "cell_type": "markdown",
   "metadata": {},
   "source": [
    "### Inheritance\n",
    "\n",
    "Inheritance allows us to define a class that inherits all the methods and properties from another class."
   ]
  },
  {
   "cell_type": "code",
   "execution_count": null,
   "metadata": {},
   "source": [
    "# Parent class\n",
    "class Animal:\n",
    "    def __init__(self, name, age):\n",
    "        self.name = name\n",
    "        self.age = age\n",
    "    \n",
    "    def speak(self):\n",
    "        return f\"{self.name} makes a sound\"\n",
    "\n",
    "# Child class\n",
    "class Dog(Animal):\n",
    "    def speak(self):\n",
    "        return f\"{self.name} says Woof!\"\n",
    "\n",
    "# Another child class\n",
    "class Cat(Animal):\n",
    "    def speak(self):\n",
    "        return f\"{self.name} says Meow!\"\n",
    "\n",
    "# Create instances of each class\n",
    "generic_animal = Animal(\"Generic Animal\", 5)\n",
    "miles = Dog(\"Miles\", 4)\n",
    "kitty = Cat(\"Kitty\", 3)\n",
    "\n",
    "# Call the speak method on each instance\n",
    "print(generic_animal.speak())\n",
    "print(miles.speak())\n",
    "print(kitty.speak())"
   ],
   "outputs": []
  },
  {
   "cell_type": "markdown",
   "metadata": {},
   "source": [
    "### More Dunder Methods\n",
    "\n",
    "Python has many special methods that allow your objects to work with built-in functions and operators."
   ]
  },
  {
   "cell_type": "code",
   "execution_count": null,
   "metadata": {},
   "source": [
    "class Point:\n",
    "    def __init__(self, x, y):\n",
    "        self.x = x\n",
    "        self.y = y\n",
    "    \n",
    "    # String representation\n",
    "    def __str__(self):\n",
    "        return f\"Point({self.x}, {self.y})\"\n",
    "    \n",
    "    # Addition operator overloading\n",
    "    def __add__(self, other):\n",
    "        return Point(self.x + other.x, self.y + other.y)\n",
    "    \n",
    "    # Subtraction operator overloading\n",
    "    def __sub__(self, other):\n",
    "        return Point(self.x - other.x, self.y - other.y)\n",
    "    \n",
    "    # Equal comparison\n",
    "    def __eq__(self, other):\n",
    "        return self.x == other.x and self.y == other.y\n",
    "\n",
    "# Create some Point objects\n",
    "p1 = Point(3, 4)\n",
    "p2 = Point(1, 2)\n",
    "\n",
    "# Use our custom operators\n",
    "p3 = p1 + p2\n",
    "print(f\"p1 = {p1}\")\n",
    "print(f\"p2 = {p2}\")\n",
    "print(f\"p1 + p2 = {p3}\")\n",
    "\n",
    "p4 = p1 - p2\n",
    "print(f\"p1 - p2 = {p4}\")\n",
    "\n",
    "# Compare points\n",
    "p5 = Point(3, 4)  # Same coordinates as p1\n",
    "print(f\"p1 == p2: {p1 == p2}\")\n",
    "print(f\"p1 == p5: {p1 == p5}\")"
   ],
   "outputs": []
  }
 ],
 "metadata": {
  "kernelspec": {
   "display_name": "Python (Pyodide)",
   "language": "python",
   "name": "python"
  },
  "language_info": {
   "codemirror_mode": {
    "name": "python",
    "version": 3
   },
   "file_extension": ".py",
   "mimetype": "text/x-python",
   "name": "python",
   "nbconvert_exporter": "python",
   "pygments_lexer": "ipython3",
   "version": "3.9.5"
  }
 },
 "nbformat": 4,
 "nbformat_minor": 4
}
