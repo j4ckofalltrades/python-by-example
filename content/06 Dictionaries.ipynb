{
 "cells": [
  {
   "cell_type": "markdown",
   "metadata": {},
   "source": [
    "# Dictionaries\n",
    "\n",
    "Dictionaries store mappings from keys to values."
   ]
  },
  {
   "cell_type": "code",
   "metadata": {},
   "source": "empty = {}\nprint(f\"Empty dictionary: {empty}\")\n\n# Here is a prefilled dictionary\nfilled = {\"one\": 1, \"two\": 2, \"three\": 3}\nprint(f\"Filled dictionary: {filled}\")",
   "outputs": [],
   "execution_count": null
  },
  {
   "cell_type": "markdown",
   "metadata": {},
   "source": "### Dictionary keys and values"
  },
  {
   "cell_type": "code",
   "metadata": {},
   "source": "# Note keys for dictionaries have to be immutable types.\n# Immutable types include ints, floats, strings, tuples.\n\n# This will work - string keys and various value types\nvalid = {\"name\": \"Alice\", \"age\": 30, \"grades\": [90, 85, 88]}\nprint(f\"Valid dictionary: {valid}\")\n\n# This will NOT work - lists can't be used as keys\ntry:\n    invalid = {[1, 2, 3]: \"123\"}\nexcept TypeError as e:\n    print(f\"Error: {e}\")",
   "outputs": [],
   "execution_count": null
  },
  {
   "cell_type": "markdown",
   "metadata": {},
   "source": "### Looking up values"
  },
  {
   "cell_type": "code",
   "metadata": {},
   "source": "filled = {\"one\": 1, \"two\": 2, \"three\": 3}\n\n# Look up values with []\nprint(filled[\"one\"])  # => 1\n\n# Check for the existence of keys in a dictionary with \"in\"\nprint(f\"Is 'one' in the dictionary? {'one' in filled}\")  # => True\nprint(f\"Is 1 in the dictionary? {1 in filled}\")      # => False (1 is a value, not a key)\n\n# Looking up a non-existing key is a KeyError\ntry:\n    filled[\"four\"]  # KeyError\nexcept KeyError:\n    print(\"Key 'four' does not exist in dictionary.\")",
   "outputs": [],
   "execution_count": null
  },
  {
   "metadata": {},
   "cell_type": "code",
   "source": [
    "filled = {\"one\": 1, \"two\": 2, \"three\": 3}\n",
    "\n",
    "# Use \"get()\" method to avoid the KeyError\n",
    "print(f\"filled.get('one'): {filled.get('one')}\")      # => 1\n",
    "print(f\"filled.get('four'): {filled.get('four')}\")     # => None\n",
    "\n",
    "# The get method supports a default argument\n",
    "# when the value is missing\n",
    "print(f\"filled.get('one', 4): {filled.get('one', 4)}\")   # => 1\n",
    "print(f\"filled.get('four', 4): {filled.get('four', 4)}\")  # => 4"
   ],
   "outputs": [],
   "execution_count": null
  },
  {
   "cell_type": "markdown",
   "metadata": {},
   "source": [
    "### Adding Values"
   ]
  },
  {
   "cell_type": "code",
   "metadata": {},
   "source": "filled = {\"one\": 1, \"two\": 2, \"three\": 3}\nprint(f\"Original dictionary: {filled}\")\n\n# this overrides existing values if the key is already present\nfilled.update({\"four\": 4}) \nprint(f\"After update: {filled}\")  # {\"one\": 1, \"two\": 2, \"three\": 3, \"four\": 4}\n\nfilled[\"five\"] = 5  # another way to add to dict\nprint(f\"After adding 'five': {filled}\")\n\n# \"setdefault()\" inserts into a dictionary only if the\n# given key isn't present\nfilled.setdefault(\"six\", 6)  # filled_dict[\"six\"] is set to 6\nprint(f\"After setting default for 'six': {filled}\")\n\nfilled.setdefault(\"six\", 99)  # filled_dict[\"six\"] is still 6\nprint(f\"After trying to change 'six': {filled}\")  # Note it's still 6, not 99",
   "outputs": [],
   "execution_count": null
  },
  {
   "cell_type": "markdown",
   "metadata": {},
   "source": "### Looping through keys and values"
  },
  {
   "cell_type": "code",
   "metadata": {
    "jupyter": {
     "is_executing": true
    }
   },
   "source": [
    "gold_medal_count = {\"USA\": 40, \"Australia\": 18, \"Japan\": 27, \"Great Britain\": 22}\n",
    "\n",
    "# print all keys\n",
    "print(\"All countries:\")\n",
    "for country in gold_medal_count.keys():\n",
    "    print(country)\n",
    "\n",
    "# print all values\n",
    "print(\"\\nAll medal counts:\")\n",
    "for count in gold_medal_count.values():\n",
    "    print(count)\n",
    "\n",
    "# print all key, value pairs\n",
    "print(\"\\nAll countries and medals:\")\n",
    "for country, count in gold_medal_count.items():\n",
    "    print(f\"{country} - {count}\")"
   ],
   "outputs": [],
   "execution_count": null
  },
  {
   "cell_type": "markdown",
   "metadata": {},
   "source": "### Removing items"
  },
  {
   "cell_type": "code",
   "metadata": {},
   "source": "filled = {\"one\": 1, \"two\": 2, \"three\": 3, \"four\": 4, \"five\": 5}\nprint(f\"Original dictionary: {filled}\")\n\n# Remove keys from a dictionary with del\ndel filled[\"one\"]\nprint(f\"After deleting 'one': {filled}\")\n\n# Remove and return value with pop\nvalue = filled.pop(\"two\")\nprint(f\"Popped value: {value}\")\nprint(f\"After popping 'two': {filled}\")\n\n# pop with default value (to avoid KeyError)\nvalue = filled.pop(\"missing\", \"Not found\")\nprint(f\"Popped value for missing key: {value}\")\n\n# Remove and return random item with popitem (useful for destructive iteration)\nitem = filled.popitem()\nprint(f\"Popped item: {item}\")\nprint(f\"After popitem: {filled}\")",
   "outputs": [],
   "execution_count": null
  },
  {
   "cell_type": "markdown",
   "source": "## Test your knowledge\n\nGenerate test questions by clicking on the code block below and then pressing `Ctrl + Enter`.",
   "metadata": {}
  },
  {
   "cell_type": "code",
   "source": "import micropip\nawait micropip.install('jupyterquiz')\n\nfrom jupyterquiz import display_quiz\ndisplay_quiz('assets/quizzes/06-dictionaries-quiz.json')",
   "metadata": {},
   "outputs": [],
   "execution_count": null
  },
  {
   "metadata": {},
   "cell_type": "markdown",
   "source": "## Write some code"
  },
  {
   "cell_type": "markdown",
   "source": "### Exercise 1: Personal dictionary\nCreate a dictionary with your personal information and print specific values.\n\n**Expected Output:**\n```\nName: Alice\nAge: 25\nCity: New York\nHobby: Photography\n```",
   "metadata": {}
  },
  {
   "cell_type": "code",
   "source": "def create_personal_dictionary():\n    \"\"\"\n    Create a function that creates and displays a personal information dictionary.\n    \n    Expected Output:\n    Name: Alice\n    Age: 25\n    City: New York\n    Hobby: Photography\n    \"\"\"\n    # TODO: Create a dictionary with personal information\n    # TODO: Include keys: name, age, city, favorite_hobby\n    # TODO: Print each key-value pair in a readable format\n    pass\n\n# Test your function\n# Uncomment the line below to test your function\n# create_personal_dictionary()",
   "metadata": {},
   "outputs": [],
   "execution_count": null
  },
  {
   "cell_type": "markdown",
   "source": "### Exercise 2: Inventory system\nCreate a dictionary representing a store inventory with items as keys and quantities as values. Add a new item, update an existing quantity, and remove an item.",
   "metadata": {}
  },
  {
   "cell_type": "code",
   "source": "def manage_inventory():\n    \"\"\"\n    Create a function that manages a store inventory using dictionary operations.\n    \n    Expected Output:\n    Initial inventory: {'apples': 50, 'bananas': 30, 'oranges': 25}\n    After adding bread: {'apples': 50, 'bananas': 30, 'oranges': 25, 'bread': 20}\n    After updating apples: {'apples': 45, 'bananas': 30, 'oranges': 25, 'bread': 20}\n    After removing bananas: {'apples': 45, 'oranges': 25, 'bread': 20}\n    \"\"\"\n    # TODO: Create initial inventory dictionary\n    # TODO: Add a new item using dictionary assignment\n    # TODO: Update an existing item's quantity\n    # TODO: Remove an item using del or pop()\n    # TODO: Print inventory after each operation\n    pass\n\n# Test your function\n# Uncomment the line below to test your function\n# manage_inventory()",
   "metadata": {},
   "outputs": [],
   "execution_count": null
  },
  {
   "cell_type": "markdown",
   "source": "### Exercise 3: Safe dictionary access\nCreate a dictionary of student grades. Use the `.get()` method to safely look up grades for both existing and non-existing students.",
   "metadata": {}
  },
  {
   "cell_type": "code",
   "source": "def safe_grade_lookup():\n    \"\"\"\n    Create a function that safely looks up student grades using .get() method.\n    \n    Expected Output:\n    Alice's grade: 85\n    Bob's grade: 92\n    Charlie's grade: Not found\n    David's grade: 0 (default for missing students)\n    \"\"\"\n    # TODO: Create a dictionary of student grades\n    # TODO: Use .get() to look up existing students\n    # TODO: Use .get() to look up non-existing student (returns None)\n    # TODO: Use .get() with default value for missing students\n    pass\n\n# Test your function\n# Uncomment the line below to test your function\n# safe_grade_lookup()",
   "metadata": {},
   "outputs": [],
   "execution_count": null
  },
  {
   "cell_type": "markdown",
   "source": "### Exercise 4: Dictionary iteration\nCreate a dictionary of countries and their capitals. Loop through and print each country-capital pair in the format: \"The capital of [country] is [capital]\"",
   "metadata": {}
  },
  {
   "cell_type": "code",
   "source": "def print_country_capitals():\n    \"\"\"\n    Create a function that iterates through countries and their capitals.\n    \n    Expected Output:\n    The capital of France is Paris\n    The capital of Japan is Tokyo\n    The capital of Brazil is Brasília\n    The capital of Australia is Canberra\n    \"\"\"\n    # TODO: Create a dictionary of countries and their capitals\n    # TODO: Use .items() to loop through key-value pairs\n    # TODO: Print each country-capital pair in the specified format\n    pass\n\n# Test your function\n# Uncomment the line below to test your function\n# print_country_capitals()",
   "metadata": {},
   "outputs": [],
   "execution_count": null
  },
  {
   "cell_type": "markdown",
   "source": "### Exercise 5: Word counter\nCreate a simple word counter: given a sentence, count how many times each word appears using a dictionary.",
   "metadata": {}
  },
  {
   "cell_type": "code",
   "source": "def count_words(sentence):\n    \"\"\"\n    Create a function that counts word occurrences in a sentence using a dictionary.\n    \n    Args:\n        sentence (str): The sentence to analyze\n    \n    Returns:\n        dict: Dictionary with words as keys and counts as values\n    \n    Expected Output for \"the quick brown fox jumps over the lazy dog\":\n    {'the': 2, 'quick': 1, 'brown': 1, 'fox': 1, 'jumps': 1, 'over': 1, 'lazy': 1, 'dog': 1}\n    \"\"\"\n    # TODO: Split the sentence into words\n    # TODO: Create an empty dictionary for word counts\n    # TODO: Loop through words and count occurrences\n    # TODO: Return the word count dictionary\n    pass\n\n# Test your function\nsentence = \"the quick brown fox jumps over the lazy dog\"\n# Uncomment the lines below to test your function\n# word_count = count_words(sentence)\n# print(f\"Word count for '{sentence}':\")\n# print(word_count)",
   "metadata": {},
   "outputs": [],
   "execution_count": null
  }
 ],
 "metadata": {
  "kernelspec": {
   "display_name": "Python (Pyodide)",
   "language": "python",
   "name": "python"
  },
  "language_info": {
   "codemirror_mode": {
    "name": "python",
    "version": 3
   },
   "file_extension": ".py",
   "mimetype": "text/x-python",
   "name": "python",
   "nbconvert_exporter": "python",
   "pygments_lexer": "ipython3",
   "version": "3.9.5"
  }
 },
 "nbformat": 4,
 "nbformat_minor": 4
}
