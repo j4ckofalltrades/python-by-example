{
 "cells": [
  {
   "cell_type": "markdown",
   "metadata": {},
   "source": [
    "# Dictionaries\n",
    "\n",
    "Dictionaries store mappings from keys to values."
   ]
  },
  {
   "cell_type": "code",
   "execution_count": null,
   "metadata": {},
   "source": [
    "empty = {}\n",
    "print(\"Empty dictionary:\", empty)\n",
    "\n",
    "# Here is a prefilled dictionary\n",
    "filled = {\"one\": 1, \"two\": 2, \"three\": 3}\n",
    "print(\"Filled dictionary:\", filled)"
   ],
   "outputs": []
  },
  {
   "cell_type": "markdown",
   "metadata": {},
   "source": "### Dictionary keys and values"
  },
  {
   "cell_type": "code",
   "metadata": {},
   "source": [
    "# Note keys for dictionaries have to be immutable types.\n",
    "# Immutable types include ints, floats, strings, tuples.\n",
    "\n",
    "# This will work - string keys and various value types\n",
    "valid = {\"name\": \"Alice\", \"age\": 30, \"grades\": [90, 85, 88]}\n",
    "print(\"Valid dictionary:\", valid)\n",
    "\n",
    "# This will NOT work - lists can't be used as keys\n",
    "try:\n",
    "    invalid = {[1, 2, 3]: \"123\"}\n",
    "except TypeError as e:\n",
    "    print(f\"Error: {e}\")"
   ],
   "outputs": [],
   "execution_count": null
  },
  {
   "cell_type": "markdown",
   "metadata": {},
   "source": "### Looking up values"
  },
  {
   "cell_type": "code",
   "execution_count": null,
   "metadata": {},
   "source": [
    "filled = {\"one\": 1, \"two\": 2, \"three\": 3}\n",
    "\n",
    "# Look up values with []\n",
    "print(filled[\"one\"])  # => 1\n",
    "\n",
    "# Check for the existence of keys in a dictionary with \"in\"\n",
    "print(\"Is 'one' in the dictionary?\", \"one\" in filled)  # => True\n",
    "print(\"Is 1 in the dictionary?\", 1 in filled)      # => False (1 is a value, not a key)\n",
    "\n",
    "# Looking up a non-existing key is a KeyError\n",
    "try:\n",
    "    filled[\"four\"]  # KeyError\n",
    "except KeyError:\n",
    "    print(\"Key 'four' does not exist in dictionary.\")"
   ],
   "outputs": []
  },
  {
   "cell_type": "code",
   "execution_count": null,
   "metadata": {},
   "source": [
    "filled = {\"one\": 1, \"two\": 2, \"three\": 3}\n",
    "\n",
    "# Use \"get()\" method to avoid the KeyError\n",
    "print(\"filled.get('one'):\", filled.get(\"one\"))      # => 1\n",
    "print(\"filled.get('four'):\", filled.get(\"four\"))     # => None\n",
    "\n",
    "# The get method supports a default argument\n",
    "# when the value is missing\n",
    "print(\"filled.get('one', 4):\", filled.get(\"one\", 4))   # => 1\n",
    "print(\"filled.get('four', 4):\", filled.get(\"four\", 4))  # => 4"
   ],
   "outputs": []
  },
  {
   "cell_type": "markdown",
   "metadata": {},
   "source": [
    "### Adding Values"
   ]
  },
  {
   "cell_type": "code",
   "execution_count": null,
   "metadata": {},
   "source": [
    "filled = {\"one\": 1, \"two\": 2, \"three\": 3}\n",
    "print(\"Original dictionary:\", filled)\n",
    "\n",
    "# this overrides existing values if the key is already present\n",
    "filled.update({\"four\": 4}) \n",
    "print(\"After update:\", filled)  # {\"one\": 1, \"two\": 2, \"three\": 3, \"four\": 4}\n",
    "\n",
    "filled[\"five\"] = 5  # another way to add to dict\n",
    "print(\"After adding 'five':\", filled)\n",
    "\n",
    "# \"setdefault()\" inserts into a dictionary only if the\n",
    "# given key isn't present\n",
    "filled.setdefault(\"six\", 6)  # filled_dict[\"six\"] is set to 6\n",
    "print(\"After setting default for 'six':\", filled)\n",
    "\n",
    "filled.setdefault(\"six\", 99)  # filled_dict[\"six\"] is still 6\n",
    "print(\"After trying to change 'six':\", filled)  # Note it's still 6, not 99"
   ],
   "outputs": []
  },
  {
   "cell_type": "markdown",
   "metadata": {},
   "source": "### Looping through keys and values"
  },
  {
   "cell_type": "code",
   "metadata": {
    "jupyter": {
     "is_executing": true
    }
   },
   "source": [
    "gold_medal_count = {\"USA\": 40, \"Australia\": 18, \"Japan\": 27, \"Great Britain\": 22}\n",
    "\n",
    "# print all keys\n",
    "print(\"All countries:\")\n",
    "for country in gold_medal_count.keys():\n",
    "    print(country)\n",
    "\n",
    "# print all values\n",
    "print(\"\\nAll medal counts:\")\n",
    "for count in gold_medal_count.values():\n",
    "    print(count)\n",
    "\n",
    "# print all key, value pairs\n",
    "print(\"\\nAll countries and medals:\")\n",
    "for country, count in gold_medal_count.items():\n",
    "    print(f\"{country} - {count}\")"
   ],
   "outputs": [],
   "execution_count": null
  },
  {
   "cell_type": "markdown",
   "metadata": {},
   "source": "### Removing items"
  },
  {
   "cell_type": "code",
   "execution_count": null,
   "metadata": {},
   "source": [
    "filled = {\"one\": 1, \"two\": 2, \"three\": 3, \"four\": 4, \"five\": 5}\n",
    "print(\"Original dictionary:\", filled)\n",
    "\n",
    "# Remove keys from a dictionary with del\n",
    "del filled[\"one\"]\n",
    "print(\"After deleting 'one':\", filled)\n",
    "\n",
    "# Remove and return value with pop\n",
    "value = filled.pop(\"two\")\n",
    "print(f\"Popped value: {value}\")\n",
    "print(\"After popping 'two':\", filled)\n",
    "\n",
    "# pop with default value (to avoid KeyError)\n",
    "value = filled.pop(\"missing\", \"Not found\")\n",
    "print(f\"Popped value for missing key: {value}\")\n",
    "\n",
    "# Remove and return random item with popitem (useful for destructive iteration)\n",
    "item = filled.popitem()\n",
    "print(f\"Popped item: {item}\")\n",
    "print(\"After popitem:\", filled)"
   ],
   "outputs": []
  },
  {
   "cell_type": "markdown",
   "source": "## Test your knowledge\n\nGenerate test questions by clicking on the code block below and then pressing `Ctrl + Enter`.",
   "metadata": {}
  },
  {
   "cell_type": "code",
   "source": "import micropip\nawait micropip.install('jupyterquiz')\n\nfrom jupyterquiz import display_quiz\ndisplay_quiz('assets/quizzes/06-dictionaries-quiz.json')",
   "metadata": {},
   "outputs": []
  },
  {
   "cell_type": "markdown",
   "source": "## Practice Exercises\n\nComplete these exercises to practice what you've learned (should take about 15 minutes total):\n\n### Exercise 1: Personal dictionary\nCreate a dictionary with your personal information: name, age, city, and favorite hobby. Print each value.",
   "metadata": {}
  },
  {
   "cell_type": "code",
   "source": "# Create your personal dictionary here",
   "metadata": {},
   "outputs": []
  },
  {
   "cell_type": "markdown",
   "source": "### Exercise 2: Inventory system\nCreate a dictionary representing a store inventory with items as keys and quantities as values. Add a new item, update an existing quantity, and remove an item.",
   "metadata": {}
  },
  {
   "cell_type": "code",
   "source": "# Create and modify your inventory dictionary here",
   "metadata": {},
   "outputs": []
  },
  {
   "cell_type": "markdown",
   "source": "### Exercise 3: Safe dictionary access\nCreate a dictionary of student grades. Use the `.get()` method to safely look up grades for both existing and non-existing students.",
   "metadata": {}
  },
  {
   "cell_type": "code",
   "source": "# Create your grades dictionary and use .get() method here",
   "metadata": {},
   "outputs": []
  },
  {
   "cell_type": "markdown",
   "source": "### Exercise 4: Dictionary iteration\nCreate a dictionary of countries and their capitals. Loop through and print each country-capital pair in the format: \"The capital of [country] is [capital]\"",
   "metadata": {}
  },
  {
   "cell_type": "code",
   "source": "# Create your countries dictionary and loop through it here",
   "metadata": {},
   "outputs": []
  },
  {
   "cell_type": "markdown",
   "source": "### Exercise 5: Word counter\nCreate a simple word counter: given a sentence, count how many times each word appears using a dictionary.",
   "metadata": {}
  },
  {
   "cell_type": "code",
   "source": "sentence = \"the quick brown fox jumps over the lazy dog\"\n# Create a word counter dictionary here",
   "metadata": {},
   "outputs": []
  }
 ],
 "metadata": {
  "kernelspec": {
   "display_name": "Python (Pyodide)",
   "language": "python",
   "name": "python"
  },
  "language_info": {
   "codemirror_mode": {
    "name": "python",
    "version": 3
   },
   "file_extension": ".py",
   "mimetype": "text/x-python",
   "name": "python",
   "nbconvert_exporter": "python",
   "pygments_lexer": "ipython3",
   "version": "3.9.5"
  }
 },
 "nbformat": 4,
 "nbformat_minor": 4
}