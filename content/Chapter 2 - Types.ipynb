{
 "cells": [
  {
   "cell_type": "markdown",
   "metadata": {},
   "source": [
    "# Built-in Types\n",
    "\n",
    "## Built-in Types\n",
    "\n",
    "| Type  | Description                                                   |\n",
    "| ----- | ------------------------------------------------------------- |\n",
    "| int   | Integers  - whole numbers                                     |\n",
    "| float | Floating point numbers - decimal values or fractional numbers |\n",
    "| str   | Strings - textual data e.g. sequence of characters            |\n",
    "| bool  | Boolean - represents truth value i.e. `True` or `False`       |\n",
    "\n",
    "### Numeric Values"
   ]
  },
  {
   "cell_type": "code",
   "execution_count": null,
   "metadata": {},
   "source": [
    "# Math is what you would expect\n",
    "print(1 + 1)   # => 2\n",
    "print(8 - 1)   # => 7\n",
    "print(10 * 2)  # => 20\n",
    "print(35 / 5)  # => 7.0"
   ],
   "outputs": []
  },
  {
   "cell_type": "markdown",
   "metadata": {},
   "source": [
    "### Strings"
   ]
  },
  {
   "cell_type": "code",
   "execution_count": null,
   "metadata": {},
   "source": [
    "# Strings are created with \" or '\n",
    "print(\"This is a string.\")\n",
    "print('This is also a string.')\n",
    "\n",
    "# Strings can be added too\n",
    "print(\"Hello \" + \"world!\")  # => \"Hello world!\""
   ],
   "outputs": []
  },
  {
   "cell_type": "markdown",
   "metadata": {},
   "source": [
    "### `f-strings` Or Formatted String Literals"
   ]
  },
  {
   "cell_type": "code",
   "execution_count": null,
   "metadata": {},
   "source": [
    "band = \"blink-182\"\n",
    "print(f\"Pop-punk band from SoCal: {band}\")\n",
    "# => \"Pop-punk band from SoCal: blink-182\"\n",
    "\n",
    "# Any valid expression inside the curly braces is returned \n",
    "# to the string.\n",
    "print(f\"2 + 2 = {2 + 2}\")"
   ],
   "outputs": []
  },
  {
   "cell_type": "markdown",
   "metadata": {},
   "source": [
    "### Booleans"
   ]
  },
  {
   "cell_type": "code",
   "execution_count": null,
   "metadata": {},
   "source": [
    "print(True)   # => True\n",
    "print(False)  # => False\n",
    "\n",
    "# Generally used for comparisons\n",
    "print(1 == 1)  # => True\n",
    "print(2 == 1)  # => False\n",
    "print(1 != 1)  # => False\n",
    "print(2 != 1)  # => True"
   ],
   "outputs": []
  },
  {
   "cell_type": "markdown",
   "metadata": {},
   "source": [
    "### The `None` Type"
   ]
  },
  {
   "cell_type": "code",
   "execution_count": null,
   "metadata": {},
   "source": [
    "# None is an object\n",
    "# Used to denote the absence of a value\n",
    "# Generally used for comparisons\n",
    "print(None)  # => None\n",
    "\n",
    "# Use \"is\" when performing comparisons\n",
    "print(\"etc\" is None)  # => False\n",
    "print(None is None)   # => True"
   ],
   "outputs": []
  },
  {
   "cell_type": "markdown",
   "metadata": {},
   "source": [
    "## Getting Type Information"
   ]
  },
  {
   "cell_type": "code",
   "execution_count": null,
   "metadata": {},
   "source": [
    "print(type(1)) # => <class 'int'>\n",
    "print(type(1) == int) # => True\n",
    "\n",
    "print(isinstance(1, int)) # True"
   ],
   "outputs": []
  }
 ],
 "metadata": {
  "kernelspec": {
   "display_name": "Python (Pyodide)",
   "language": "python",
   "name": "python"
  },
  "language_info": {
   "codemirror_mode": {
    "name": "python",
    "version": 3
   },
   "file_extension": ".py",
   "mimetype": "text/x-python",
   "name": "python",
   "nbconvert_exporter": "python",
   "pygments_lexer": "ipython3",
   "version": "3.9.5"
  }
 },
 "nbformat": 4,
 "nbformat_minor": 4
}
