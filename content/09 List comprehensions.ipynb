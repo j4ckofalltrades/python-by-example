{
 "cells": [
  {
   "cell_type": "markdown",
   "metadata": {},
   "source": "# List comprehensions\n"
  },
  {
   "cell_type": "code",
   "execution_count": null,
   "metadata": {},
   "source": [
    "# syntax\n",
    "# new_list = [expression for member in iterable]\n",
    "\n",
    "orig_list = [1, 2, 3, 4]\n",
    "squares = [num ** 2 for num in orig_list]\n",
    "print(f\"Original list: {orig_list}\")\n",
    "print(f\"Squares: {squares}\") # [1, 4, 9, 16]\n",
    "\n",
    "# This is equivalent to this for loop\n",
    "# orig_list = [1, 2, 3, 4]\n",
    "# squares = []\n",
    "# for item in orig_list:\n",
    "#     squares.append(item ** 2)"
   ],
   "outputs": []
  },
  {
   "metadata": {},
   "cell_type": "code",
   "outputs": [],
   "execution_count": null,
   "source": [
    "# List comprehension with conditional\n",
    "numbers = [1, 2, 3, 4, 5, 6, 7, 8, 9, 10]\n",
    "\n",
    "# Get only even numbers and square them\n",
    "even_squares = [x**2 for x in numbers if x % 2 == 0]\n",
    "print(f\"Even squares: {even_squares}\")  # [4, 16, 36, 64, 100]\n",
    "\n",
    "# Get numbers greater than 5\n",
    "greater_than_five = [x for x in numbers if x > 5]\n",
    "print(f\"Numbers > 5: {greater_than_five}\")  # [6, 7, 8, 9, 10]"
   ]
  }
 ],
 "metadata": {
  "kernelspec": {
   "display_name": "Python (Pyodide)",
   "language": "python",
   "name": "python"
  },
  "language_info": {
   "codemirror_mode": {
    "name": "python",
    "version": 3
   },
   "file_extension": ".py",
   "mimetype": "text/x-python",
   "name": "python",
   "nbconvert_exporter": "python",
   "pygments_lexer": "ipython3",
   "version": "3.9.5"
  }
 },
 "nbformat": 4,
 "nbformat_minor": 4
}
