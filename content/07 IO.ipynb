{
 "cells": [
  {
   "cell_type": "markdown",
   "metadata": {},
   "source": [
    "# Input/Output (I/O)\n",
    "\n",
    "Python provides several ways to read from and write to files. In this notebook, we'll focus on working with CSV files, but first let's look at the basics of file I/O."
   ]
  },
  {
   "metadata": {},
   "cell_type": "markdown",
   "source": [
    "\n",
    "### Basic File Operations\n",
    "\n",
    "Reading and writing text files is straightforward in Python:"
   ]
  },
  {
   "cell_type": "code",
   "execution_count": null,
   "metadata": {},
   "source": [
    "# Writing to a file\n",
    "with open('example.txt', 'w') as file:\n",
    "    file.write('Hello, world!\\n')\n",
    "    file.write('This is a second line.')\n",
    "    \n",
    "# Reading from a file\n",
    "with open('example.txt', 'r') as file:\n",
    "    content = file.read()\n",
    "    print(content)"
   ],
   "outputs": []
  },
  {
   "cell_type": "markdown",
   "metadata": {},
   "source": [
    "### Reading Files Line by Line"
   ]
  },
  {
   "cell_type": "code",
   "execution_count": null,
   "metadata": {},
   "source": [
    "# Reading file line by line\n",
    "with open('example.txt', 'r') as file:\n",
    "    for line_number, line in enumerate(file, 1):\n",
    "        print(f\"Line {line_number}: {line.strip()}\")"
   ],
   "outputs": []
  },
  {
   "cell_type": "markdown",
   "metadata": {},
   "source": [
    "### CSV (Comma-separated values)\n",
    "\n",
    "CSV (Comma-Separated Values) is a common format for tabular data. Here's an example of what a CSV file might look like:\n",
    "\n",
    "```csv\n",
    "name,department,birthday_month\n",
    "John Smith,Accounting,November\n",
    "Erica Meyers,IT,March\n",
    "```\n",
    "\n",
    "Let's create a sample CSV file and then read it using Python's CSV module."
   ]
  },
  {
   "cell_type": "code",
   "execution_count": null,
   "metadata": {},
   "source": [
    "# First, create a sample CSV file\n",
    "with open('employee_birthday.csv', 'w') as file:\n",
    "    file.write('name,department,birthday_month\\n')\n",
    "    file.write('John Smith,Accounting,November\\n')\n",
    "    file.write('Erica Meyers,IT,March\\n')\n",
    "    file.write('Michael Johnson,Sales,July\\n')\n",
    "    file.write('Sarah Lee,Marketing,February\\n')\n",
    "\n",
    "# Display the file contents\n",
    "with open('employee_birthday.csv', 'r') as file:\n",
    "    print(file.read())"
   ],
   "outputs": []
  },
  {
   "cell_type": "markdown",
   "metadata": {},
   "source": [
    "### Reading CSV Files with `csv.reader()`"
   ]
  },
  {
   "cell_type": "code",
   "execution_count": null,
   "metadata": {},
   "source": [
    "import csv\n",
    "\n",
    "with open(\"employee_birthday.csv\") as csv_file:\n",
    "    csv_reader = csv.reader(csv_file)\n",
    "    next(csv_reader) # skip headers (first row)\n",
    "\n",
    "    for row in csv_reader:\n",
    "        if row:\n",
    "            employee_name = row[0]\n",
    "            department_name = row[1]\n",
    "            birthday_month = row[2]\n",
    "            print(f\"Name: {employee_name}\")\n",
    "            print(f\"Department: {department_name}\")\n",
    "            print(f\"Birth month: {birthday_month}\")\n",
    "            print(\"-\" * 20)"
   ],
   "outputs": []
  },
  {
   "cell_type": "markdown",
   "metadata": {},
   "source": [
    "### Using `csv.DictReader`\n",
    "\n",
    "The `DictReader` class works like a regular reader but maps the information in each row to a `dict` whose keys are given by the optional fieldnames parameter. If fieldnames is omitted, the values in the first row of the file will be used as the fieldnames."
   ]
  },
  {
   "cell_type": "code",
   "execution_count": null,
   "metadata": {},
   "source": [
    "import csv\n",
    "\n",
    "with open(\"employee_birthday.csv\") as csv_file:\n",
    "    csv_dictreader = csv.DictReader(csv_file)\n",
    "    for row in csv_dictreader:\n",
    "        if row:\n",
    "            print(f\"Name: {row['name']}\")\n",
    "            print(f\"Department: {row['department']}\")\n",
    "            print(f\"Birth month: {row['birthday_month']}\")\n",
    "            print(\"-\" * 20)"
   ],
   "outputs": []
  },
  {
   "cell_type": "markdown",
   "metadata": {},
   "source": [
    "### Writing CSV Files\n",
    "\n",
    "You can also write data to CSV files using the `csv.writer` or `csv.DictWriter` classes."
   ]
  },
  {
   "cell_type": "code",
   "execution_count": null,
   "metadata": {},
   "source": [
    "import csv\n",
    "\n",
    "# Data to write\n",
    "data = [\n",
    "    ['Name', 'Age', 'City'],\n",
    "    ['Alice', 28, 'New York'],\n",
    "    ['Bob', 32, 'Los Angeles'],\n",
    "    ['Charlie', 45, 'Chicago'],\n",
    "    ['Diana', 37, 'Boston']\n",
    "]\n",
    "\n",
    "# Writing with csv.writer\n",
    "with open('people.csv', 'w', newline='') as file:\n",
    "    writer = csv.writer(file)\n",
    "    writer.writerows(data)\n",
    "    \n",
    "# Reading and displaying the file we just created\n",
    "with open('people.csv', 'r') as file:\n",
    "    print(file.read())"
   ],
   "outputs": []
  },
  {
   "cell_type": "code",
   "execution_count": null,
   "metadata": {},
   "source": [
    "# Writing with csv.DictWriter\n",
    "with open('people_dict.csv', 'w', newline='') as file:\n",
    "    fieldnames = ['Name', 'Age', 'City']\n",
    "    writer = csv.DictWriter(file, fieldnames=fieldnames)\n",
    "    \n",
    "    writer.writeheader()\n",
    "    writer.writerow({'Name': 'Alice', 'Age': 28, 'City': 'New York'})\n",
    "    writer.writerow({'Name': 'Bob', 'Age': 32, 'City': 'Los Angeles'})\n",
    "    writer.writerow({'Name': 'Charlie', 'Age': 45, 'City': 'Chicago'})\n",
    "    writer.writerow({'Name': 'Diana', 'Age': 37, 'City': 'Boston'})\n",
    "    \n",
    "# Reading and displaying the file we just created\n",
    "with open('people_dict.csv', 'r') as file:\n",
    "    print(file.read())"
   ],
   "outputs": []
  },
  {
   "cell_type": "markdown",
   "metadata": {},
   "source": [
    "### Processing CSV Data\n",
    "\n",
    "Let's do some simple data processing with our CSV data:"
   ]
  },
  {
   "cell_type": "code",
   "execution_count": null,
   "metadata": {},
   "source": [
    "import csv\n",
    "\n",
    "# Create sample data\n",
    "with open('sales.csv', 'w', newline='') as file:\n",
    "    writer = csv.writer(file)\n",
    "    writer.writerow(['Product', 'Quantity', 'Price'])\n",
    "    writer.writerow(['Apples', 10, 1.50])\n",
    "    writer.writerow(['Bananas', 15, 0.75])\n",
    "    writer.writerow(['Oranges', 8, 2.00])\n",
    "    writer.writerow(['Grapes', 5, 3.50])\n",
    "\n",
    "# Calculate total sales amount\n",
    "total_sales = 0\n",
    "with open('sales.csv', 'r') as file:\n",
    "    reader = csv.DictReader(file)\n",
    "    for row in reader:\n",
    "        quantity = int(row['Quantity'])\n",
    "        price = float(row['Price'])\n",
    "        subtotal = quantity * price\n",
    "        total_sales += subtotal\n",
    "        print(f\"{row['Product']}: {quantity} units × ${price:.2f} = ${subtotal:.2f}\")\n",
    "        \n",
    "print(f\"\\nTotal Sales: ${total_sales:.2f}\")"
   ],
   "outputs": []
  }
 ],
 "metadata": {
  "kernelspec": {
   "display_name": "Python (Pyodide)",
   "language": "python",
   "name": "python"
  },
  "language_info": {
   "codemirror_mode": {
    "name": "python",
    "version": 3
   },
   "file_extension": ".py",
   "mimetype": "text/x-python",
   "name": "python",
   "nbconvert_exporter": "python",
   "pygments_lexer": "ipython3",
   "version": "3.9.5"
  }
 },
 "nbformat": 4,
 "nbformat_minor": 4
}
