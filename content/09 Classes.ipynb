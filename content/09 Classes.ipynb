{
 "cells": [
  {
   "cell_type": "markdown",
   "metadata": {},
   "source": [
    "# Classes\n",
    "\n",
    "A class is a blueprint for creating objects. Let's create a simple `Dog` class:"
   ]
  },
  {
   "cell_type": "code",
   "metadata": {
    "ExecuteTime": {
     "end_time": "2025-06-14T12:18:59.662176Z",
     "start_time": "2025-06-14T12:18:59.658159Z"
    }
   },
   "source": [
    "class Dog:\n",
    "    # Class attribute\n",
    "    species = \"Canis familiaris\"\n",
    "\n",
    "    # Constructor containing instance attributes\n",
    "    def __init__(self, name, age):\n",
    "        self.name = name\n",
    "        self.age = age\n",
    "\n",
    "    # Instance method\n",
    "    def speak(self, sound):\n",
    "        return f\"{self.name} says {sound}\""
   ],
   "outputs": [],
   "execution_count": 2
  },
  {
   "cell_type": "markdown",
   "metadata": {},
   "source": [
    "### Instances\n",
    "\n",
    "Now, let's create some instances of our `Dog` class and use them:"
   ]
  },
  {
   "cell_type": "code",
   "execution_count": null,
   "metadata": {},
   "source": [
    "# Instance attributes are unique to each instance of an object\n",
    "miles = Dog(\"Miles\", 4)\n",
    "print(miles.speak(\"Woof\"))\n",
    "\n",
    "buddy = Dog(\"Buddy\", 9)\n",
    "print(buddy.speak(\"Bow wow\"))\n",
    "\n",
    "# Class attributes are the same for all instances\n",
    "print(f\"{miles.name}'s species: {miles.species}\")\n",
    "print(f\"{buddy.name}'s species: {buddy.species}\")"
   ],
   "outputs": []
  },
  {
   "cell_type": "markdown",
   "metadata": {},
   "source": [
    "### `__str__` and other *dunder methods*\n",
    "\n",
    "Special methods in Python (also called \"dunder methods\" for \"double underscore\") provide a way to define how objects of your class behave with built-in Python operations."
   ]
  },
  {
   "cell_type": "code",
   "metadata": {
    "ExecuteTime": {
     "end_time": "2025-06-14T12:19:01.960378Z",
     "start_time": "2025-06-14T12:19:01.955073Z"
    }
   },
   "source": [
    "# Without a __str__ method\n",
    "miles = Dog(\"Miles\", 4)\n",
    "print(miles)  # Output will be something like <__main__.Dog object at 0x00aeff70>"
   ],
   "outputs": [
    {
     "name": "stdout",
     "output_type": "stream",
     "text": [
      "<__main__.Dog object at 0x7b3e72679fd0>\n"
     ]
    }
   ],
   "execution_count": 3
  },
  {
   "cell_type": "code",
   "execution_count": null,
   "metadata": {},
   "source": [
    "# Let's add a __str__ method to our Dog class\n",
    "class Dog:\n",
    "    # Class attribute\n",
    "    species = \"Canis familiaris\"\n",
    "\n",
    "    # Constructor containing instance attributes\n",
    "    def __init__(self, name, age):\n",
    "        self.name = name\n",
    "        self.age = age\n",
    "\n",
    "    # Instance method\n",
    "    def speak(self, sound):\n",
    "        return f\"{self.name} says {sound}\"\n",
    "    \n",
    "    # String representation\n",
    "    def __str__(self):\n",
    "        return f\"{self.name} is {self.age} years old\"\n",
    "\n",
    "# Now when we print a Dog object, it will show our custom string\n",
    "miles = Dog(\"Miles\", 4)\n",
    "print(miles)  # Now prints: Miles is 4 years old"
   ],
   "outputs": []
  },
  {
   "cell_type": "markdown",
   "metadata": {},
   "source": [
    "### Inheritance\n",
    "\n",
    "Inheritance allows us to define a class that inherits all the methods and properties from another class."
   ]
  },
  {
   "cell_type": "code",
   "execution_count": null,
   "metadata": {},
   "source": [
    "# Parent class\n",
    "class Animal:\n",
    "    def __init__(self, name, age):\n",
    "        self.name = name\n",
    "        self.age = age\n",
    "    \n",
    "    def speak(self):\n",
    "        return f\"{self.name} makes a sound\"\n",
    "\n",
    "# Child class\n",
    "class Dog(Animal):\n",
    "    def speak(self):\n",
    "        return f\"{self.name} says Woof!\"\n",
    "\n",
    "# Another child class\n",
    "class Cat(Animal):\n",
    "    def speak(self):\n",
    "        return f\"{self.name} says Meow!\"\n",
    "\n",
    "# Create instances of each class\n",
    "generic_animal = Animal(\"Generic Animal\", 5)\n",
    "miles = Dog(\"Miles\", 4)\n",
    "kitty = Cat(\"Kitty\", 3)\n",
    "\n",
    "# Call the speak method on each instance\n",
    "print(generic_animal.speak())\n",
    "print(miles.speak())\n",
    "print(kitty.speak())"
   ],
   "outputs": []
  },
  {
   "cell_type": "markdown",
   "source": "## Test your knowledge\n\nGenerate test questions by clicking on the code block below and then pressing `Ctrl + Enter`.",
   "metadata": {}
  },
  {
   "cell_type": "code",
   "source": [
    "import micropip\n",
    "await micropip.install('jupyterquiz')\n",
    "\n",
    "from jupyterquiz import display_quiz\n",
    "display_quiz('assets/quizzes/09-classes-quiz.json')"
   ],
   "metadata": {},
   "outputs": [],
   "execution_count": null
  },
  {
   "cell_type": "markdown",
   "source": "### Exercise 1: Basic class\nCreate a Person class with name and age attributes.\n\n**Expected Output:**\n```\nPerson created: Alice (age 25)\nPerson created: Bob (age 30)\n```",
   "metadata": {}
  },
  {
   "cell_type": "code",
   "source": "class Person:\n    \"\"\"\n    Create a Person class with name and age attributes.\n    Include a __str__ method to display person information.\n    \n    Expected Output when creating Person(\"Alice\", 25):\n    Person created: Alice (age 25)\n    \"\"\"\n    def __init__(self, name, age):\n        # TODO: Initialize name and age attributes\n        pass\n    \n    def __str__(self):\n        # TODO: Return formatted string with person information\n        pass\n\n# Test your class\n# Uncomment the lines below to test your class\n# person1 = Person(\"Alice\", 25)\n# print(f\"Person created: {person1}\")\n# person2 = Person(\"Bob\", 30)\n# print(f\"Person created: {person2}\")",
   "metadata": {},
   "outputs": [],
   "execution_count": null
  },
  {
   "cell_type": "markdown",
   "source": "### Exercise 2: Class with methods\nCreate a `Calculator` class with methods for add, subtract, multiply, and divide. Each method should take two parameters.",
   "metadata": {}
  },
  {
   "cell_type": "code",
   "source": "class Calculator:\n    \"\"\"\n    Create a Calculator class with methods for basic arithmetic operations.\n    Each method should take two parameters and return the result.\n    \n    Expected Output:\n    Addition: 5 + 3 = 8\n    Subtraction: 5 - 3 = 2\n    Multiplication: 5 * 3 = 15\n    Division: 6 / 3 = 2.0\n    \"\"\"\n    \n    def add(self, a, b):\n        # TODO: Return the sum of a and b\n        pass\n    \n    def subtract(self, a, b):\n        # TODO: Return the difference of a and b\n        pass\n    \n    def multiply(self, a, b):\n        # TODO: Return the product of a and b\n        pass\n    \n    def divide(self, a, b):\n        # TODO: Return the quotient of a and b\n        # TODO: Handle division by zero\n        pass\n\n# Test your class\n# Uncomment the lines below to test your class\n# calc = Calculator()\n# print(f\"Addition: 5 + 3 = {calc.add(5, 3)}\")\n# print(f\"Subtraction: 5 - 3 = {calc.subtract(5, 3)}\")\n# print(f\"Multiplication: 5 * 3 = {calc.multiply(5, 3)}\")\n# print(f\"Division: 6 / 3 = {calc.divide(6, 3)}\")",
   "metadata": {},
   "outputs": [],
   "execution_count": null
  },
  {
   "cell_type": "markdown",
   "source": "### Exercise 3: Inheritance example\nCreate a `Vehicle` parent class with make, model, and year. Then create a `Car` child class that adds a doors attribute.",
   "metadata": {}
  },
  {
   "cell_type": "code",
   "source": "class Vehicle:\n    \"\"\"\n    Create a Vehicle parent class with make, model, and year attributes.\n    \"\"\"\n    def __init__(self, make, model, year):\n        # TODO: Initialize make, model, and year attributes\n        pass\n    \n    def __str__(self):\n        # TODO: Return formatted string with vehicle information\n        pass\n\nclass Car(Vehicle):\n    \"\"\"\n    Create a Car child class that inherits from Vehicle and adds a doors attribute.\n    \n    Expected Output when creating Car(\"Toyota\", \"Camry\", 2022, 4):\n    2022 Toyota Camry with 4 doors\n    \"\"\"\n    def __init__(self, make, model, year, doors):\n        # TODO: Call parent constructor with super()\n        # TODO: Initialize doors attribute\n        pass\n    \n    def __str__(self):\n        # TODO: Return formatted string including doors information\n        pass\n\n# Test your classes\n# Uncomment the lines below to test your classes\n# vehicle = Vehicle(\"Ford\", \"F-150\", 2021)\n# print(vehicle)\n# car = Car(\"Toyota\", \"Camry\", 2022, 4)\n# print(car)",
   "metadata": {},
   "outputs": [],
   "execution_count": null
  },
  {
   "cell_type": "markdown",
   "source": "### Exercise 4: Bank account class\nCreate a `BankAccount` class with deposit, withdraw, and check_balance methods. Include overdraft protection.",
   "metadata": {}
  },
  {
   "cell_type": "code",
   "source": "class BankAccount:\n    \"\"\"\n    Create a BankAccount class with deposit, withdraw, and check_balance methods.\n    Include overdraft protection.\n    \n    Expected Output:\n    Account created with balance: $1000.00\n    Deposited $500.00. New balance: $1500.00\n    Withdrew $200.00. New balance: $1300.00\n    Insufficient funds. Cannot withdraw $2000.00\n    Current balance: $1300.00\n    \"\"\"\n    \n    def __init__(self, initial_balance=0):\n        # TODO: Initialize balance attribute\n        pass\n    \n    def deposit(self, amount):\n        # TODO: Add amount to balance\n        # TODO: Print confirmation message\n        pass\n    \n    def withdraw(self, amount):\n        # TODO: Check if sufficient funds available\n        # TODO: Subtract amount from balance if possible\n        # TODO: Print appropriate message\n        pass\n    \n    def check_balance(self):\n        # TODO: Return current balance\n        pass\n\n# Test your class\n# Uncomment the lines below to test your class\n# account = BankAccount(1000)\n# print(f\"Account created with balance: ${account.check_balance():.2f}\")\n# account.deposit(500)\n# account.withdraw(200)\n# account.withdraw(2000)  # Should fail\n# print(f\"Current balance: ${account.check_balance():.2f}\")",
   "metadata": {},
   "outputs": [],
   "execution_count": null
  }
 ],
 "metadata": {
  "kernelspec": {
   "display_name": "Python (Pyodide)",
   "language": "python",
   "name": "python"
  },
  "language_info": {
   "codemirror_mode": {
    "name": "python",
    "version": 3
   },
   "file_extension": ".py",
   "mimetype": "text/x-python",
   "name": "python",
   "nbconvert_exporter": "python",
   "pygments_lexer": "ipython3",
   "version": "3.9.5"
  }
 },
 "nbformat": 4,
 "nbformat_minor": 4
}
