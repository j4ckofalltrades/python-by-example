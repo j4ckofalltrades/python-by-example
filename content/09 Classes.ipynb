{
 "cells": [
  {
   "cell_type": "markdown",
   "metadata": {},
   "source": [
    "# Classes\n",
    "\n",
    "A class is a blueprint for creating objects. Let's create a simple `Dog` class:"
   ]
  },
  {
   "cell_type": "code",
   "execution_count": null,
   "metadata": {},
   "source": [
    "class Dog:\n",
    "    # Class attribute\n",
    "    species = \"Canis familiaris\"\n",
    "\n",
    "    # Constructor containing instance attributes\n",
    "    def __init__(self, name, age):\n",
    "        self.name = name\n",
    "        self.age = age\n",
    "\n",
    "    # Instance method\n",
    "    def speak(self, sound):\n",
    "        return f\"{self.name} says {sound}\""
   ],
   "outputs": []
  },
  {
   "cell_type": "markdown",
   "metadata": {},
   "source": [
    "### Instances\n",
    "\n",
    "Now, let's create some instances of our `Dog` class and use them:"
   ]
  },
  {
   "cell_type": "code",
   "execution_count": null,
   "metadata": {},
   "source": [
    "# Instance attributes are unique to each instance of an object\n",
    "miles = Dog(\"Miles\", 4)\n",
    "print(miles.speak(\"Woof\"))\n",
    "\n",
    "buddy = Dog(\"Buddy\", 9)\n",
    "print(buddy.speak(\"Bow wow\"))\n",
    "\n",
    "# Class attributes are the same for all instances\n",
    "print(f\"{miles.name}'s species: {miles.species}\")\n",
    "print(f\"{buddy.name}'s species: {buddy.species}\")"
   ],
   "outputs": []
  },
  {
   "cell_type": "markdown",
   "metadata": {},
   "source": [
    "### `__str__` and other *dunder methods*\n",
    "\n",
    "Special methods in Python (also called \"dunder methods\" for \"double underscore\") provide a way to define how objects of your class behave with built-in Python operations."
   ]
  },
  {
   "cell_type": "code",
   "execution_count": null,
   "metadata": {},
   "source": [
    "# Without a __str__ method\n",
    "miles = Dog(\"Miles\", 4)\n",
    "print(miles)  # Output will be something like <__main__.Dog object at 0x00aeff70>"
   ],
   "outputs": []
  },
  {
   "cell_type": "code",
   "execution_count": null,
   "metadata": {},
   "source": [
    "# Let's add a __str__ method to our Dog class\n",
    "class Dog:\n",
    "    # Class attribute\n",
    "    species = \"Canis familiaris\"\n",
    "\n",
    "    # Constructor containing instance attributes\n",
    "    def __init__(self, name, age):\n",
    "        self.name = name\n",
    "        self.age = age\n",
    "\n",
    "    # Instance method\n",
    "    def speak(self, sound):\n",
    "        return f\"{self.name} says {sound}\"\n",
    "    \n",
    "    # String representation\n",
    "    def __str__(self):\n",
    "        return f\"{self.name} is {self.age} years old\"\n",
    "\n",
    "# Now when we print a Dog object, it will show our custom string\n",
    "miles = Dog(\"Miles\", 4)\n",
    "print(miles)  # Now prints: Miles is 4 years old"
   ],
   "outputs": []
  },
  {
   "cell_type": "markdown",
   "metadata": {},
   "source": [
    "### Inheritance\n",
    "\n",
    "Inheritance allows us to define a class that inherits all the methods and properties from another class."
   ]
  },
  {
   "cell_type": "code",
   "execution_count": null,
   "metadata": {},
   "source": [
    "# Parent class\n",
    "class Animal:\n",
    "    def __init__(self, name, age):\n",
    "        self.name = name\n",
    "        self.age = age\n",
    "    \n",
    "    def speak(self):\n",
    "        return f\"{self.name} makes a sound\"\n",
    "\n",
    "# Child class\n",
    "class Dog(Animal):\n",
    "    def speak(self):\n",
    "        return f\"{self.name} says Woof!\"\n",
    "\n",
    "# Another child class\n",
    "class Cat(Animal):\n",
    "    def speak(self):\n",
    "        return f\"{self.name} says Meow!\"\n",
    "\n",
    "# Create instances of each class\n",
    "generic_animal = Animal(\"Generic Animal\", 5)\n",
    "miles = Dog(\"Miles\", 4)\n",
    "kitty = Cat(\"Kitty\", 3)\n",
    "\n",
    "# Call the speak method on each instance\n",
    "print(generic_animal.speak())\n",
    "print(miles.speak())\n",
    "print(kitty.speak())"
   ],
   "outputs": []
  },
  {
   "cell_type": "markdown",
   "metadata": {},
   "source": [
    "### More Dunder Methods\n",
    "\n",
    "Python has many special methods that allow your objects to work with built-in functions and operators."
   ]
  },
  {
   "cell_type": "code",
   "execution_count": null,
   "metadata": {},
   "source": [
    "class Point:\n",
    "    def __init__(self, x, y):\n",
    "        self.x = x\n",
    "        self.y = y\n",
    "    \n",
    "    # String representation\n",
    "    def __str__(self):\n",
    "        return f\"Point({self.x}, {self.y})\"\n",
    "    \n",
    "    # Addition operator overloading\n",
    "    def __add__(self, other):\n",
    "        return Point(self.x + other.x, self.y + other.y)\n",
    "    \n",
    "    # Subtraction operator overloading\n",
    "    def __sub__(self, other):\n",
    "        return Point(self.x - other.x, self.y - other.y)\n",
    "    \n",
    "    # Equal comparison\n",
    "    def __eq__(self, other):\n",
    "        return self.x == other.x and self.y == other.y\n",
    "\n",
    "# Create some Point objects\n",
    "p1 = Point(3, 4)\n",
    "p2 = Point(1, 2)\n",
    "\n",
    "# Use our custom operators\n",
    "p3 = p1 + p2\n",
    "print(f\"p1 = {p1}\")\n",
    "print(f\"p2 = {p2}\")\n",
    "print(f\"p1 + p2 = {p3}\")\n",
    "\n",
    "p4 = p1 - p2\n",
    "print(f\"p1 - p2 = {p4}\")\n",
    "\n",
    "# Compare points\n",
    "p5 = Point(3, 4)  # Same coordinates as p1\n",
    "print(f\"p1 == p2: {p1 == p2}\")\n",
    "print(f\"p1 == p5: {p1 == p5}\")"
   ],
   "outputs": []
  },
  {
   "cell_type": "markdown",
   "source": "## Test your knowledge\n\nGenerate test questions by clicking on the code block below and then pressing `Ctrl + Enter`.",
   "metadata": {}
  },
  {
   "cell_type": "code",
   "source": [
    "import micropip\n",
    "await micropip.install('jupyterquiz')\n",
    "\n",
    "from jupyterquiz import display_quiz\n",
    "display_quiz('assets/quizzes/09-classes-quiz.json')"
   ],
   "metadata": {},
   "outputs": [],
   "execution_count": null
  },
  {
   "cell_type": "markdown",
   "source": "## Write some code\n\n1. **Basic class**: Create a `Person` class with name and age attributes, and a method to introduce themselves.\n\n2. **Class with methods**: Create a `Calculator` class with methods for addition, subtraction, multiplication, and division.\n\n3. **Inheritance**: Create a `Student` class that inherits from `Person` and adds a `grade` attribute and `study()` method.\n\n4. **Bank account**: Create a `BankAccount` class with deposit, withdraw, and check balance methods.\n\n5. **Dunder methods**: Create a `Book` class with `__str__` and `__repr__` methods for nice string representation.",
   "metadata": {},
   "outputs": []
  },
  {
   "cell_type": "code",
   "source": "class Book:\n    \"\"\"\n    Create a Book class with title, author, and pages attributes.\n    Include a __str__ method to display book information.\n    \n    Expected Output when creating Book(\"1984\", \"George Orwell\", 328):\n    1984 by George Orwell (328 pages)\n    \"\"\"\n    def __init__(self, title, author, pages):\n        # TODO: Initialize title, author, and pages attributes\n        pass\n    \n    def __str__(self):\n        # TODO: Return formatted string with book information\n        pass\n\n# Test your class\n# Uncomment the lines below to test your class\n# book1 = Book(\"1984\", \"George Orwell\", 328)\n# print(book1)\n# book2 = Book(\"To Kill a Mockingbird\", \"Harper Lee\", 281)\n# print(book2)",
   "metadata": {},
   "outputs": []
  },
  {
   "cell_type": "markdown",
   "source": "### Exercise 2: Class with methods\nCreate a `Calculator` class with methods for add, subtract, multiply, and divide. Each method should take two parameters.",
   "metadata": {}
  },
  {
   "cell_type": "code",
   "source": "class Calculator:\n    \"\"\"\n    Create a Calculator class with methods for basic arithmetic operations.\n    Each method should take two parameters and return the result.\n    \n    Expected Output:\n    Addition: 5 + 3 = 8\n    Subtraction: 5 - 3 = 2\n    Multiplication: 5 * 3 = 15\n    Division: 6 / 3 = 2.0\n    \"\"\"\n    \n    def add(self, a, b):\n        # TODO: Return the sum of a and b\n        pass\n    \n    def subtract(self, a, b):\n        # TODO: Return the difference of a and b\n        pass\n    \n    def multiply(self, a, b):\n        # TODO: Return the product of a and b\n        pass\n    \n    def divide(self, a, b):\n        # TODO: Return the quotient of a and b\n        # TODO: Handle division by zero\n        pass\n\n# Test your class\n# Uncomment the lines below to test your class\n# calc = Calculator()\n# print(f\"Addition: 5 + 3 = {calc.add(5, 3)}\")\n# print(f\"Subtraction: 5 - 3 = {calc.subtract(5, 3)}\")\n# print(f\"Multiplication: 5 * 3 = {calc.multiply(5, 3)}\")\n# print(f\"Division: 6 / 3 = {calc.divide(6, 3)}\")",
   "metadata": {},
   "outputs": []
  },
  {
   "cell_type": "markdown",
   "source": "### Exercise 3: Inheritance example\nCreate a `Vehicle` parent class with make, model, and year. Then create a `Car` child class that adds a doors attribute.",
   "metadata": {}
  },
  {
   "cell_type": "code",
   "source": "class Vehicle:\n    \"\"\"\n    Create a Vehicle parent class with make, model, and year attributes.\n    \"\"\"\n    def __init__(self, make, model, year):\n        # TODO: Initialize make, model, and year attributes\n        pass\n    \n    def __str__(self):\n        # TODO: Return formatted string with vehicle information\n        pass\n\nclass Car(Vehicle):\n    \"\"\"\n    Create a Car child class that inherits from Vehicle and adds a doors attribute.\n    \n    Expected Output when creating Car(\"Toyota\", \"Camry\", 2022, 4):\n    2022 Toyota Camry with 4 doors\n    \"\"\"\n    def __init__(self, make, model, year, doors):\n        # TODO: Call parent constructor with super()\n        # TODO: Initialize doors attribute\n        pass\n    \n    def __str__(self):\n        # TODO: Return formatted string including doors information\n        pass\n\n# Test your classes\n# Uncomment the lines below to test your classes\n# vehicle = Vehicle(\"Ford\", \"F-150\", 2021)\n# print(vehicle)\n# car = Car(\"Toyota\", \"Camry\", 2022, 4)\n# print(car)",
   "metadata": {},
   "outputs": []
  },
  {
   "cell_type": "markdown",
   "source": "### Exercise 4: Bank account class\nCreate a `BankAccount` class with deposit, withdraw, and check_balance methods. Include overdraft protection.",
   "metadata": {}
  },
  {
   "cell_type": "code",
   "source": "class BankAccount:\n    \"\"\"\n    Create a BankAccount class with deposit, withdraw, and check_balance methods.\n    Include overdraft protection.\n    \n    Expected Output:\n    Account created with balance: $1000.00\n    Deposited $500.00. New balance: $1500.00\n    Withdrew $200.00. New balance: $1300.00\n    Insufficient funds. Cannot withdraw $2000.00\n    Current balance: $1300.00\n    \"\"\"\n    \n    def __init__(self, initial_balance=0):\n        # TODO: Initialize balance attribute\n        pass\n    \n    def deposit(self, amount):\n        # TODO: Add amount to balance\n        # TODO: Print confirmation message\n        pass\n    \n    def withdraw(self, amount):\n        # TODO: Check if sufficient funds available\n        # TODO: Subtract amount from balance if possible\n        # TODO: Print appropriate message\n        pass\n    \n    def check_balance(self):\n        # TODO: Return current balance\n        pass\n\n# Test your class\n# Uncomment the lines below to test your class\n# account = BankAccount(1000)\n# print(f\"Account created with balance: ${account.check_balance():.2f}\")\n# account.deposit(500)\n# account.withdraw(200)\n# account.withdraw(2000)  # Should fail\n# print(f\"Current balance: ${account.check_balance():.2f}\")",
   "metadata": {},
   "outputs": []
  },
  {
   "cell_type": "markdown",
   "source": "### Exercise 5: Dunder methods practice\nCreate a `Temperature` class that supports addition and comparison. Include `__add__` and `__eq__` methods.",
   "metadata": {}
  },
  {
   "cell_type": "code",
   "source": "class Temperature:\n    \"\"\"\n    Create a Temperature class that supports addition and comparison using dunder methods.\n    \n    Expected Output:\n    temp1 = 25°C\n    temp2 = 15°C\n    temp1 + temp2 = 40°C\n    temp1 == temp2: False\n    temp1 == temp3: True\n    \"\"\"\n    \n    def __init__(self, celsius):\n        # TODO: Initialize celsius attribute\n        pass\n    \n    def __str__(self):\n        # TODO: Return formatted string with temperature\n        pass\n    \n    def __add__(self, other):\n        # TODO: Add two temperatures and return new Temperature object\n        pass\n    \n    def __eq__(self, other):\n        # TODO: Compare two temperatures for equality\n        pass\n\n# Test your class\n# Uncomment the lines below to test your class\n# temp1 = Temperature(25)\n# temp2 = Temperature(15)\n# temp3 = Temperature(25)\n# print(f\"temp1 = {temp1}\")\n# print(f\"temp2 = {temp2}\")\n# print(f\"temp1 + temp2 = {temp1 + temp2}\")\n# print(f\"temp1 == temp2: {temp1 == temp2}\")\n# print(f\"temp1 == temp3: {temp1 == temp3}\")",
   "metadata": {},
   "outputs": []
  }
 ],
 "metadata": {
  "kernelspec": {
   "display_name": "Python (Pyodide)",
   "language": "python",
   "name": "python"
  },
  "language_info": {
   "codemirror_mode": {
    "name": "python",
    "version": 3
   },
   "file_extension": ".py",
   "mimetype": "text/x-python",
   "name": "python",
   "nbconvert_exporter": "python",
   "pygments_lexer": "ipython3",
   "version": "3.9.5"
  }
 },
 "nbformat": 4,
 "nbformat_minor": 4
}