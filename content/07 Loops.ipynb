{
 "cells": [
  {
   "cell_type": "markdown",
   "metadata": {},
   "source": "# Loops"
  },
  {
   "cell_type": "markdown",
   "metadata": {},
   "source": [
    "## `for` Loop\n",
    "\n",
    "`for` loops iterate over all the items of a list one by one.\n",
    "\n",
    "Refer to the following flowchart:\n",
    "\n",
    "![for loop](../assets/for_loop.png)"
   ]
  },
  {
   "cell_type": "code",
   "execution_count": null,
   "metadata": {},
   "source": [
    "for animal in [\"dog\", \"cat\", \"mouse\"]:\n",
    "    print(f\"{animal} is a mammal\")"
   ],
   "outputs": []
  },
  {
   "cell_type": "markdown",
   "metadata": {},
   "source": [
    "### `for` Loop (cont. 1)"
   ]
  },
  {
   "cell_type": "code",
   "execution_count": null,
   "metadata": {},
   "source": [
    "# updating a list \"in-line\"\n",
    "nums = [1, 2, 3, 4, 5, 6, 7, 8, 9, 10]\n",
    "print(\"Original list:\", nums)\n",
    "\n",
    "for index in range(len(nums)):\n",
    "    nums[index] = nums[index] ** 2\n",
    "    \n",
    "print(\"Squared list:\", nums)\n",
    "# [1, 4, 9, 16, 25, 36, 49, 64, 81, 100]"
   ],
   "outputs": []
  },
  {
   "cell_type": "markdown",
   "metadata": {},
   "source": [
    "### `for` Loop (cont. 2)"
   ]
  },
  {
   "cell_type": "code",
   "execution_count": null,
   "metadata": {},
   "source": [
    "# creating a new list\n",
    "orig_list = [1, 2, 3, 4, 5, 6, 7, 8, 9, 10]\n",
    "squares = []\n",
    "\n",
    "for number in orig_list:\n",
    "    squares.append(number ** 2)\n",
    "    \n",
    "print(\"Original list:\", orig_list)\n",
    "print(\"New squares list:\", squares)\n",
    "# [1, 4, 9, 16, 25, 36, 49, 64, 81, 100]"
   ],
   "outputs": []
  },
  {
   "cell_type": "markdown",
   "metadata": {},
   "source": [
    "### `range` Function"
   ]
  },
  {
   "cell_type": "code",
   "execution_count": null,
   "metadata": {},
   "source": [
    "\"\"\"\n",
    "\"range(number)\" returns an iterable of numbers\n",
    "from zero up to (but excluding) the given number\n",
    "prints:\n",
    "    0\n",
    "    1\n",
    "    2\n",
    "    3\n",
    "\"\"\"\n",
    "for i in range(4):\n",
    "    print(i)"
   ],
   "outputs": []
  },
  {
   "cell_type": "markdown",
   "metadata": {},
   "source": [
    "### `range` (cont. 1)"
   ]
  },
  {
   "cell_type": "code",
   "execution_count": null,
   "metadata": {},
   "source": [
    "\"\"\"\n",
    "\"range(lower, upper)\" returns an iterable of numbers\n",
    "from the lower number to the upper number\n",
    "prints:\n",
    "    4\n",
    "    5\n",
    "    6\n",
    "    7\n",
    "\"\"\"\n",
    "for i in range(4, 8):\n",
    "    print(i)"
   ],
   "outputs": []
  },
  {
   "cell_type": "markdown",
   "metadata": {},
   "source": [
    "### `range` (cont. 2)"
   ]
  },
  {
   "cell_type": "code",
   "execution_count": null,
   "metadata": {},
   "source": [
    "\"\"\"\n",
    "\"range(lower, upper, step)\" returns an iterable of numbers\n",
    "from the lower number to the upper number, while incrementing\n",
    "by step. If step is not indicated, the default value is 1.\n",
    "prints:\n",
    "    4\n",
    "    6\n",
    "\"\"\"\n",
    "for i in range(4, 8, 2):\n",
    "    print(i)"
   ],
   "outputs": []
  },
  {
   "cell_type": "markdown",
   "metadata": {},
   "source": [
    "### `enumerate` Function"
   ]
  },
  {
   "cell_type": "code",
   "execution_count": null,
   "metadata": {},
   "source": [
    "\"\"\"\n",
    "Loop over a list to retrieve both the index \n",
    "and the value of each list item:\n",
    "    0 dog\n",
    "    1 cat\n",
    "    2 mouse\n",
    "\"\"\"\n",
    "animals = [\"dog\", \"cat\", \"mouse\"]\n",
    "for i, value in enumerate(animals):\n",
    "    print(i, value)"
   ],
   "outputs": []
  },
  {
   "cell_type": "code",
   "execution_count": null,
   "metadata": {},
   "source": [
    "# updating a list \"in-line\" with enumerate\n",
    "nums = [1, 2, 3, 4, 5, 6, 7, 8, 9, 10]\n",
    "print(\"Original list:\", nums)\n",
    "\n",
    "for index, value in enumerate(nums):\n",
    "    nums[index] = value ** 2\n",
    "    \n",
    "print(\"Squared list:\", nums)\n",
    "# [1, 4, 9, 16, 25, 36, 49, 64, 81, 100]"
   ],
   "outputs": []
  },
  {
   "cell_type": "markdown",
   "metadata": {},
   "source": [
    "### Nested `for` loops\n",
    "\n",
    "`for` loops can be nested. The loop will iterate through all the items of the inner list before handing\n",
    "control back to the outer loop then moving on the next item.\n",
    "\n",
    "Refer to the following flowchart:\n",
    "\n",
    "![Nested for loop](../assets/for_loop_nested.png)"
   ]
  },
  {
   "cell_type": "code",
   "metadata": {},
   "source": [
    "spreadsheet = [\n",
    "    [1, 2, 3],\n",
    "    [4, 5, 6],\n",
    "]\n",
    "\n",
    "for row in spreadsheet:\n",
    "    for cell in row:\n",
    "        print(cell)"
   ],
   "outputs": [],
   "execution_count": null
  },
  {
   "metadata": {},
   "cell_type": "markdown",
   "source": [
    "## `while` loop\n",
    "\n",
    "A `while` loop will continue to run until a condition is no longer met (a boolean expression resolves to `False`).\n",
    "\n",
    "Refer to the following flowchart:\n",
    "\n",
    "![while loop](../assets/while_loop.png)"
   ]
  },
  {
   "metadata": {},
   "cell_type": "code",
   "outputs": [],
   "execution_count": null,
   "source": [
    "x = 0\n",
    "while x < 4:\n",
    "    print(x)\n",
    "    x += 1  # Shorthand for x = x + 1"
   ]
  },
  {
   "cell_type": "markdown",
   "metadata": {},
   "source": [
    "### List Comprehensions"
   ]
  },
  {
   "cell_type": "code",
   "execution_count": null,
   "metadata": {},
   "source": [
    "# syntax\n",
    "# new_list = [expression for member in iterable]\n",
    "\n",
    "orig_list = [1, 2, 3, 4]\n",
    "squares = [num ** 2 for num in orig_list]\n",
    "print(f\"Original list: {orig_list}\")\n",
    "print(f\"Squares: {squares}\") # [1, 4, 9, 16]\n",
    "\n",
    "# This is equivalent to this for loop\n",
    "# orig_list = [1, 2, 3, 4]\n",
    "# squares = []\n",
    "# for item in orig_list:\n",
    "#     squares.append(item ** 2)"
   ],
   "outputs": []
  },
  {
   "cell_type": "code",
   "execution_count": null,
   "metadata": {},
   "source": [
    "# List comprehension with conditional\n",
    "numbers = [1, 2, 3, 4, 5, 6, 7, 8, 9, 10]\n",
    "\n",
    "# Get only even numbers and square them\n",
    "even_squares = [x**2 for x in numbers if x % 2 == 0]\n",
    "print(f\"Even squares: {even_squares}\")  # [4, 16, 36, 64, 100]\n",
    "\n",
    "# Get numbers greater than 5\n",
    "greater_than_five = [x for x in numbers if x > 5]\n",
    "print(f\"Numbers > 5: {greater_than_five}\")  # [6, 7, 8, 9, 10]"
   ],
   "outputs": []
  },
  {
   "cell_type": "markdown",
   "source": "## Test your knowledge\n\nGenerate test questions by clicking on the code block below and then pressing `Ctrl + Enter`.",
   "metadata": {}
  },
  {
   "cell_type": "code",
   "source": [
    "import micropip\n",
    "await micropip.install('jupyterquiz')\n",
    "\n",
    "from jupyterquiz import display_quiz\n",
    "display_quiz('assets/quizzes/07-loops-quiz.json')"
   ],
   "metadata": {},
   "outputs": [],
   "execution_count": null
  },
  {
   "cell_type": "markdown",
   "source": "## Practice Exercises\n\nComplete these exercises to practice what you've learned (should take about 15 minutes total):\n\n### Exercise 1: Sum calculator\nUse a for loop to calculate the sum of numbers from 1 to 10 using the `range()` function.",
   "metadata": {}
  },
  {
   "cell_type": "code",
   "source": "def calculate_sum_with_loop():\n    \"\"\"\n    Create a function that calculates the sum of numbers from 1 to 10 using a for loop.\n    \n    Expected Output:\n    Sum of numbers 1 to 10: 55\n    \"\"\"\n    # TODO: Initialize a variable to store the sum\n    # TODO: Use a for loop with range(1, 11) to iterate from 1 to 10\n    # TODO: Add each number to the sum\n    # TODO: Print the final sum\n    pass\n\n# Test your function\n# Uncomment the line below to test your function\n# calculate_sum_with_loop()",
   "metadata": {},
   "outputs": []
  },
  {
   "cell_type": "markdown",
   "source": "### Exercise 2: List processing\nGiven a list of names, use a for loop with `enumerate()` to print each name with its position (starting from 1).",
   "metadata": {}
  },
  {
   "cell_type": "code",
   "source": "def print_names_with_positions(names):\n    \"\"\"\n    Create a function that prints each name with its position using enumerate().\n    \n    Args:\n        names (list): List of names to print\n    \n    Expected Output:\n    1. Alice\n    2. Bob\n    3. Charlie\n    4. Diana\n    \"\"\"\n    # TODO: Use enumerate() to get both index and value\n    # TODO: Print each name with position (starting from 1)\n    pass\n\n# Test your function\nnames = [\"Alice\", \"Bob\", \"Charlie\", \"Diana\"]\n# Uncomment the line below to test your function\n# print_names_with_positions(names)",
   "metadata": {},
   "outputs": []
  },
  {
   "cell_type": "markdown",
   "source": "### Exercise 3: While loop countdown\nCreate a countdown from 5 to 1 using a while loop, then print \"Blast off!\"",
   "metadata": {}
  },
  {
   "cell_type": "code",
   "source": "def countdown_while_loop():\n    \"\"\"\n    Create a function that counts down from 5 to 1 using a while loop, then prints \"Blast off!\"\n    \n    Expected Output:\n    5\n    4\n    3\n    2\n    1\n    Blast off!\n    \"\"\"\n    # TODO: Initialize counter variable to 5\n    # TODO: Use while loop to countdown while counter > 0\n    # TODO: Print the counter value each iteration\n    # TODO: Decrement the counter each iteration\n    # TODO: Print \"Blast off!\" after the loop\n    pass\n\n# Test your function\n# Uncomment the line below to test your function\n# countdown_while_loop()",
   "metadata": {},
   "outputs": []
  },
  {
   "cell_type": "markdown",
   "source": "### Exercise 4: Nested loops multiplication table\nCreate a simple 3x3 multiplication table using nested for loops.",
   "metadata": {}
  },
  {
   "cell_type": "code",
   "source": "def create_multiplication_table():\n    \"\"\"\n    Create a function that generates a 3x3 multiplication table using nested for loops.\n    \n    Expected Output:\n    1 x 1 = 1    1 x 2 = 2    1 x 3 = 3\n    2 x 1 = 2    2 x 2 = 4    2 x 3 = 6\n    3 x 1 = 3    3 x 2 = 6    3 x 3 = 9\n    \"\"\"\n    # TODO: Use nested for loops with range(1, 4) for both rows and columns\n    # TODO: Calculate the product for each combination\n    # TODO: Print each row on a separate line\n    pass\n\n# Test your function\n# Uncomment the line below to test your function\n# create_multiplication_table()",
   "metadata": {},
   "outputs": []
  },
  {
   "cell_type": "markdown",
   "source": "### Exercise 5: List comprehension practice\nUse a list comprehension to create a list of squares for even numbers from 2 to 10.",
   "metadata": {}
  },
  {
   "cell_type": "code",
   "source": "def even_squares_comprehension():\n    \"\"\"\n    Create a function that uses list comprehension to create squares of even numbers from 2 to 10.\n    \n    Returns:\n        list: List of squares of even numbers\n    \n    Expected Output:\n    Even numbers: [2, 4, 6, 8, 10]\n    Squares of even numbers: [4, 16, 36, 64, 100]\n    \"\"\"\n    # TODO: Create a list comprehension that squares even numbers from 2 to 10\n    # TODO: Print the original even numbers and their squares\n    # TODO: Return the list of squares\n    pass\n\n# Test your function\n# Uncomment the line below to test your function\n# even_squares_comprehension()",
   "metadata": {},
   "outputs": []
  }
 ],
 "metadata": {
  "kernelspec": {
   "display_name": "Python (Pyodide)",
   "language": "python",
   "name": "python"
  },
  "language_info": {
   "codemirror_mode": {
    "name": "python",
    "version": 3
   },
   "file_extension": ".py",
   "mimetype": "text/x-python",
   "name": "python",
   "nbconvert_exporter": "python",
   "pygments_lexer": "ipython3",
   "version": "3.9.5"
  }
 },
 "nbformat": 4,
 "nbformat_minor": 4
}