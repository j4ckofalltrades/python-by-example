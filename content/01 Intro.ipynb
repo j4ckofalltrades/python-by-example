{
 "cells": [
  {
   "cell_type": "markdown",
   "metadata": {},
   "source": [
    "# Introduction\n",
    "\n",
    "![Python](https://upload.wikimedia.org/wikipedia/commons/thumb/c/c3/Python-logo-notext.svg/219px-Python-logo-notext.svg.png)\n",
    "\n",
    "## What is Python?\n",
    "\n",
    "A high-level, general-purpose programming language designed by Guido van Rossum, first released in 1991.\n",
    "\n",
    "Its design philosophy emphasizes code readability with the use of significant indentation."
   ]
  },
  {
   "metadata": {},
   "cell_type": "markdown",
   "source": "## Basic Syntax"
  },
  {
   "metadata": {},
   "cell_type": "markdown",
   "source": [
    "### Comments\n",
    "\n",
    "Comments are used to describe or document what the code does or why it was written in a certain way.\n",
    "\n",
    "To write comments, add a `#` to the start of the line.\n",
    "\n",
    "Comments are ignored by the Python interpreter when it runs your code."
   ]
  },
  {
   "metadata": {},
   "cell_type": "code",
   "source": "# This is an example of a comment in Python",
   "outputs": [],
   "execution_count": null
  },
  {
   "metadata": {},
   "cell_type": "markdown",
   "source": [
    "### Keywords\n",
    "\n",
    "These are a set of words that have a special meaning in Python that are a part of its syntax.\n",
    "\n",
    "Run the following code to get the complete list of keywords."
   ]
  },
  {
   "metadata": {},
   "cell_type": "code",
   "source": "print(help(\"keywords\"))",
   "outputs": [],
   "execution_count": null
  },
  {
   "metadata": {},
   "cell_type": "markdown",
   "source": [
    "### Style Guide\n",
    "\n",
    "[PEP 8](https://www.python.org/dev/peps/pep-0008/) is the official style guide for Python code.\n",
    "\n",
    "While it is not required, it is highly recommended to follow common conventions when writing Python code for consistency,\n",
    "and it makes your code more readable and easier to maintain.\n",
    "\n",
    "#### Naming conventions\n",
    "\n",
    "- `joined_lower` or `snake case` for functions, methods, attributes, variables\n",
    "\n",
    "- `joined_lower` or `ALL_CAPS` for constants\n",
    "\n",
    "- `CapWords` for classes"
   ]
  },
  {
   "metadata": {},
   "cell_type": "markdown",
   "source": [
    "## The `print()` function\n",
    "\n",
    "Python has a built-in `print()` function that is used to _print_ out values on the screen.\n",
    "\n",
    "It is a useful tool that we can use to understand and identify problems in our code."
   ]
  },
  {
   "metadata": {},
   "cell_type": "markdown",
   "source": "## Hello, World!"
  },
  {
   "metadata": {},
   "cell_type": "markdown",
   "source": [
    "It's time to write your first Python program. Type the following code `print(\"Hello, World\")` in the textbox below\n",
    "and run the code by pressing `Ctrl + Enter`."
   ]
  },
  {
   "cell_type": "code",
   "metadata": {},
   "source": "",
   "outputs": [],
   "execution_count": null
  },
  {
   "metadata": {},
   "cell_type": "markdown",
   "source": [
    "## Test your knowledge\n",
    "\n",
    "Generate test questions by clicking on the code block below and then pressing `Ctrl + Enter`."
   ]
  },
  {
   "metadata": {},
   "cell_type": "code",
   "source": [
    "import micropip\n",
    "await micropip.install('jupyterquiz')\n",
    "\n",
    "from jupyterquiz import display_quiz\n",
    "display_quiz('assets/quizzes/01-intro-quiz.json')"
   ],
   "outputs": [],
   "execution_count": null
  },
  {
   "cell_type": "markdown",
   "source": "## Write some code\n\n1. **Hello with your name**: Write a program that prints \"Hello, [Your Name]!\" (replace [Your Name] with your actual name).\n\n2. **Multiple print statements**: Write a program that prints three different messages on separate lines.\n\n3. **Comment and code**: Write a program that includes both a comment explaining what the code does and a print statement that outputs \"Learning Python is fun!\"",
   "metadata": {},
   "outputs": []
  },
  {
   "cell_type": "code",
   "source": "# Write your code here",
   "metadata": {},
   "outputs": [],
   "execution_count": null
  },
  {
   "cell_type": "markdown",
   "source": "### Exercise 2: Multiple print statements\nUse three separate `print()` statements to display your favorite color, food, and hobby\n\n**Expected Output:**\n```\nMy favorite color is blue\nMy favorite food is pizza\nMy favorite hobby is reading\n```\n(Replace with your actual preferences)",
   "metadata": {}
  },
  {
   "cell_type": "code",
   "source": "# Write your code here",
   "metadata": {},
   "outputs": [],
   "execution_count": null
  },
  {
   "cell_type": "markdown",
   "source": "### Exercise 3: Comment and code\nWrite a comment explaining what the code below does, then write the code to print \"Python is awesome!\"\n\n**Expected Output:**\n```\nPython is awesome!\n```",
   "metadata": {}
  },
  {
   "cell_type": "code",
   "source": "# Write your code here",
   "metadata": {},
   "outputs": [],
   "execution_count": null
  }
 ],
 "metadata": {
  "kernelspec": {
   "display_name": "Python (Pyodide)",
   "language": "python",
   "name": "python"
  },
  "language_info": {
   "codemirror_mode": {
    "name": "python",
    "version": 3
   },
   "file_extension": ".py",
   "mimetype": "text/x-python",
   "name": "python",
   "nbconvert_exporter": "python",
   "pygments_lexer": "ipython3",
   "version": "3.9.5"
  }
 },
 "nbformat": 4,
 "nbformat_minor": 4
}