{
 "cells": [
  {
   "cell_type": "markdown",
   "metadata": {},
   "source": "# Lists\n"
  },
  {
   "cell_type": "markdown",
   "metadata": {},
   "source": "A list is an ordered collection of arbitrary objects. Lists are defined in Python by enclosing a comma-separated sequence of objects in square brackets (`[]`)."
  },
  {
   "metadata": {},
   "cell_type": "markdown",
   "source": "## Lists can contain arbitrary objects"
  },
  {
   "cell_type": "code",
   "execution_count": null,
   "metadata": {},
   "source": [
    "# The elements of a list can all be the same type:\n",
    "a = [2, 4, 6, 8]\n",
    "print(a) # [2, 4, 6, 8]\n",
    "\n",
    "# Or the elements can be of varying types:\n",
    "b = [21.42, 'foobar', 3, 4, 'bark', False, 3.14159]\n",
    "print(b)\n",
    "# [21.42, 'foobar', 3, 4, 'bark', False, 3.14159]"
   ],
   "outputs": []
  },
  {
   "cell_type": "markdown",
   "metadata": {},
   "source": [
    "## List items can be accessed by index\n",
    "\n",
    "Individual elements in a list can be accessed using an index in square brackets.\n",
    "List indexing is zero-based."
   ]
  },
  {
   "metadata": {},
   "cell_type": "code",
   "outputs": [],
   "execution_count": null,
   "source": [
    "my_list = ['foo', 'bar', 'baz', 'qux', 'quux', 'corge']\n",
    "print(my_list[0]) # => 'foo'\n",
    "print(my_list[2]) # => 'baz'\n",
    "print(my_list[5]) # => 'corge'\n",
    "\n",
    "# Negative indices count from the end\n",
    "print(my_list[-1])  # => 'corge' (last element)\n",
    "print(my_list[-2])  # => 'quux' (second-to-last element)"
   ]
  },
  {
   "cell_type": "markdown",
   "metadata": {},
   "source": "## Lists can be nested"
  },
  {
   "cell_type": "code",
   "execution_count": null,
   "metadata": {},
   "source": [
    "li = [\n",
    "    1,\n",
    "    [1, 2, 3],\n",
    "    5,\n",
    "]\n",
    "\n",
    "print(li[0])      # => 1 (first element)\n",
    "print(li[1])      # => [1, 2, 3] (second element, which is a list)\n",
    "print(li[1][2])   # => 3 (third element of the nested list)"
   ],
   "outputs": []
  },
  {
   "cell_type": "markdown",
   "metadata": {},
   "source": "## Lists are mutable"
  },
  {
   "cell_type": "code",
   "execution_count": null,
   "metadata": {},
   "source": [
    "a = ['foo', 'bar', 'baz', 'qux', 'quux', 'corge']\n",
    "print(\"Original list:\", a)\n",
    "\n",
    "a[2] = 10\n",
    "a[-1] = 20\n",
    "print(\"Modified list:\", a)"
   ],
   "outputs": []
  },
  {
   "cell_type": "markdown",
   "metadata": {},
   "source": "## Slices"
  },
  {
   "metadata": {},
   "cell_type": "markdown",
   "source": [
    "You can look at ranges with slice syntax.\n",
    "\n",
    "`list[start:end:step]`\n",
    "\n",
    "The start index is included, the end index is not."
   ]
  },
  {
   "cell_type": "code",
   "metadata": {},
   "source": [
    "list_4 = [1, 2, 3, 4]\n",
    "\n",
    "# Use any combination of these to make advanced slices\n",
    "# li[start : end : step]\n",
    "print(list_4[1:3])   # index 1 to 2\n",
    "print(list_4[2:])    # start from index 2\n",
    "print(list_4[:3])    # from start until index 3\n",
    "print(list_4[::2])   # step size of 2\n",
    "print(list_4[::-1])  # reverse order"
   ],
   "outputs": [],
   "execution_count": null
  },
  {
   "cell_type": "markdown",
   "metadata": {},
   "source": "## List Operations"
  },
  {
   "metadata": {},
   "cell_type": "markdown",
   "source": "### `append()`"
  },
  {
   "cell_type": "code",
   "execution_count": null,
   "metadata": {},
   "source": [
    "my_list = []\n",
    "print(\"Empty list:\", my_list)\n",
    "\n",
    "# Add stuff to the end of a list with append\n",
    "my_list.append(1)\n",
    "my_list.append(2)\n",
    "print(\"After appending 1 and 2:\", my_list)"
   ],
   "outputs": []
  },
  {
   "metadata": {},
   "cell_type": "markdown",
   "source": "### `extend()`"
  },
  {
   "metadata": {},
   "cell_type": "code",
   "execution_count": null,
   "source": [
    "# Add multiple items with extend\n",
    "my_list.extend([3, 4]) # li is now [1, 2, 3, 4]\n",
    "print(\"After extending with [3, 4]:\", list)"
   ],
   "outputs": []
  },
  {
   "metadata": {},
   "cell_type": "markdown",
   "source": "### `pop()`"
  },
  {
   "metadata": {},
   "cell_type": "code",
   "execution_count": null,
   "source": [
    "# Remove from the end with pop\n",
    "popped = li.pop()        # => 4 and li is now [1, 2, 3]\n",
    "print(\"Popped value:\", popped)\n",
    "print(\"After popping:\", li)\n",
    "\n",
    "# Or remove a specific element by providing an index\n",
    "popped_at_index = li.pop(1)       # => 2 and li is now [1, 3]\n",
    "print(\"Popped value at index 1:\", popped_at_index)\n",
    "print(\"After popping at index 1:\", li)"
   ],
   "outputs": []
  }
 ],
 "metadata": {
  "kernelspec": {
   "display_name": "Python (Pyodide)",
   "language": "python",
   "name": "python"
  },
  "language_info": {
   "codemirror_mode": {
    "name": "python",
    "version": 3
   },
   "file_extension": ".py",
   "mimetype": "text/x-python",
   "name": "python",
   "nbconvert_exporter": "python",
   "pygments_lexer": "ipython3",
   "version": "3.9.5"
  }
 },
 "nbformat": 4,
 "nbformat_minor": 4
}
