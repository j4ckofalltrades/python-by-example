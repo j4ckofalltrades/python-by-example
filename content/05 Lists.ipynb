{
 "cells": [
  {
   "cell_type": "markdown",
   "metadata": {},
   "source": "# Lists\n"
  },
  {
   "cell_type": "markdown",
   "metadata": {},
   "source": "A list is an ordered collection of arbitrary objects. Lists are defined in Python by enclosing a comma-separated sequence of objects in square brackets (`[]`)."
  },
  {
   "metadata": {},
   "cell_type": "markdown",
   "source": "## Lists can contain arbitrary objects"
  },
  {
   "cell_type": "code",
   "execution_count": null,
   "metadata": {},
   "source": [
    "# The elements of a list can all be the same type:\n",
    "a = [2, 4, 6, 8]\n",
    "print(a) # [2, 4, 6, 8]\n",
    "\n",
    "# Or the elements can be of varying types:\n",
    "b = [21.42, 'foobar', 3, 4, 'bark', False, 3.14159]\n",
    "print(b)\n",
    "# [21.42, 'foobar', 3, 4, 'bark', False, 3.14159]"
   ],
   "outputs": []
  },
  {
   "cell_type": "markdown",
   "metadata": {},
   "source": [
    "## List items can be accessed by index\n",
    "\n",
    "Individual elements in a list can be accessed using an index in square brackets.\n",
    "List indexing is zero-based."
   ]
  },
  {
   "metadata": {},
   "cell_type": "code",
   "outputs": [],
   "execution_count": null,
   "source": [
    "my_list = ['foo', 'bar', 'baz', 'qux', 'quux', 'corge']\n",
    "print(my_list[0]) # => 'foo'\n",
    "print(my_list[2]) # => 'baz'\n",
    "print(my_list[5]) # => 'corge'\n",
    "\n",
    "# Negative indices count from the end\n",
    "print(my_list[-1])  # => 'corge' (last element)\n",
    "print(my_list[-2])  # => 'quux' (second-to-last element)"
   ]
  },
  {
   "cell_type": "markdown",
   "metadata": {},
   "source": "## Lists can be nested"
  },
  {
   "cell_type": "code",
   "execution_count": null,
   "metadata": {},
   "source": [
    "li = [\n",
    "    1,\n",
    "    [1, 2, 3],\n",
    "    5,\n",
    "]\n",
    "\n",
    "print(li[0])      # => 1 (first element)\n",
    "print(li[1])      # => [1, 2, 3] (second element, which is a list)\n",
    "print(li[1][2])   # => 3 (third element of the nested list)"
   ],
   "outputs": []
  },
  {
   "cell_type": "markdown",
   "metadata": {},
   "source": "## Lists are mutable"
  },
  {
   "cell_type": "code",
   "metadata": {},
   "source": "a = ['foo', 'bar', 'baz', 'qux', 'quux', 'corge']\nprint(f\"Original list: {a}\")\n\na[2] = 10\na[-1] = 20\nprint(f\"Modified list: {a}\")",
   "outputs": [],
   "execution_count": null
  },
  {
   "cell_type": "markdown",
   "metadata": {},
   "source": "## Slices"
  },
  {
   "metadata": {},
   "cell_type": "markdown",
   "source": [
    "You can look at ranges with slice syntax.\n",
    "\n",
    "`list[start:end:step]`\n",
    "\n",
    "The start index is included, the end index is not."
   ]
  },
  {
   "cell_type": "code",
   "metadata": {},
   "source": [
    "list_4 = [1, 2, 3, 4]\n",
    "\n",
    "# Use any combination of these to make advanced slices\n",
    "# li[start : end : step]\n",
    "print(list_4[1:3])   # index 1 to 2\n",
    "print(list_4[2:])    # start from index 2\n",
    "print(list_4[:3])    # from start until index 3\n",
    "print(list_4[::2])   # step size of 2\n",
    "print(list_4[::-1])  # reverse order"
   ],
   "outputs": [],
   "execution_count": null
  },
  {
   "cell_type": "markdown",
   "metadata": {},
   "source": "## List Operations"
  },
  {
   "metadata": {},
   "cell_type": "markdown",
   "source": "### `append()`"
  },
  {
   "cell_type": "code",
   "metadata": {},
   "source": "my_list = []\nprint(f\"Empty list: {my_list}\")\n\n# Add stuff to the end of a list with append\nmy_list.append(1)\nmy_list.append(2)\nprint(f\"After appending 1 and 2: {my_list}\")",
   "outputs": [],
   "execution_count": null
  },
  {
   "metadata": {},
   "cell_type": "markdown",
   "source": "### `extend()`"
  },
  {
   "metadata": {},
   "cell_type": "code",
   "source": "# Add multiple items with extend\nmy_list.extend([3, 4]) # li is now [1, 2, 3, 4]\nprint(f\"After extending with [3, 4]: {my_list}\")",
   "outputs": [],
   "execution_count": null
  },
  {
   "metadata": {},
   "cell_type": "markdown",
   "source": "### `pop()`"
  },
  {
   "metadata": {},
   "cell_type": "code",
   "source": "# Remove from the end with pop\npopped = li.pop()        # => 4 and li is now [1, 2, 3]\nprint(f\"Popped value: {popped}\")\nprint(f\"After popping: {li}\")\n\n# Or remove a specific element by providing an index\npopped_at_index = li.pop(1)       # => 2 and li is now [1, 3]\nprint(f\"Popped value at index 1: {popped_at_index}\")\nprint(f\"After popping at index 1: {li}\")",
   "outputs": [],
   "execution_count": null
  },
  {
   "cell_type": "markdown",
   "source": "## Test your knowledge\n\nGenerate test questions by clicking on the code block below and then pressing `Ctrl + Enter`.",
   "metadata": {}
  },
  {
   "cell_type": "code",
   "source": "import micropip\nawait micropip.install('jupyterquiz')\n\nfrom jupyterquiz import display_quiz\ndisplay_quiz('assets/quizzes/05-lists-quiz.json')",
   "metadata": {},
   "outputs": [],
   "execution_count": null
  },
  {
   "cell_type": "markdown",
   "source": "## Write some code\n",
   "metadata": {}
  },
  {
   "metadata": {},
   "cell_type": "markdown",
   "source": [
    "### Exercise 1: List creation\n",
    "Create a list of your 5 favorite movies and print the entire list.\n",
    "\n",
    "**Expected Output:**\n",
    "```\n",
    "My favorite movies: ['The Shawshank Redemption', 'The Godfather', 'Pulp Fiction', 'The Dark Knight', 'Forrest Gump']\n",
    "```"
   ]
  },
  {
   "metadata": {},
   "cell_type": "code",
   "outputs": [],
   "execution_count": null,
   "source": [
    "def create_favorite_movies():\n",
    "    \"\"\"\n",
    "    Create a function that creates a list of 5 favorite movies and prints the entire list.\n",
    "\n",
    "    Expected Output:\n",
    "    My favorite movies: ['The Shawshank Redemption', 'The Godfather', 'Pulp Fiction', 'The Dark Knight', 'Forrest Gump']\n",
    "    \"\"\"\n",
    "    # TODO: Create a list of your 5 favorite movies\n",
    "    # TODO: Print the list with a descriptive message\n",
    "    pass\n",
    "\n",
    "# Test your function\n",
    "# Uncomment the line below to test your function\n",
    "# create_favorite_movies()"
   ]
  },
  {
   "cell_type": "markdown",
   "source": "### Exercise 2: List slicing\nCreate a list of numbers from 1 to 10. Use slicing to get: the first 3 numbers, the last 3 numbers, and every other number.\n\n**Expected Output:**\n```\nOriginal list: [1, 2, 3, 4, 5, 6, 7, 8, 9, 10]\nFirst 3: [1, 2, 3]\nLast 3: [8, 9, 10]\nEvery other: [1, 3, 5, 7, 9]\n```",
   "metadata": {}
  },
  {
   "cell_type": "code",
   "source": "def practice_list_slicing():\n    \"\"\"\n    Create a function that demonstrates list slicing operations.\n    \n    Expected Output:\n    Original list: [1, 2, 3, 4, 5, 6, 7, 8, 9, 10]\n    First 3: [1, 2, 3]\n    Last 3: [8, 9, 10]\n    Every other: [1, 3, 5, 7, 9]\n    \"\"\"\n    # TODO: Create a list of numbers from 1 to 10\n    # TODO: Use slicing to get first 3 numbers\n    # TODO: Use slicing to get last 3 numbers  \n    # TODO: Use slicing to get every other number\n    # TODO: Print all results\n    pass\n\n# Test your function\n# Uncomment the line below to test your function\n# practice_list_slicing()",
   "metadata": {},
   "outputs": [],
   "execution_count": null
  },
  {
   "cell_type": "markdown",
   "source": "### Exercise 3: List operations\nStart with an empty list. Add your favorite color, then add two more colors. Remove the second color and print the final list.\n\n**Expected Output:**\n```\nAfter adding colors: ['blue', 'red', 'green']\nAfter removing second color: ['blue', 'green']\n```",
   "metadata": {}
  },
  {
   "cell_type": "code",
   "source": "def practice_list_operations():\n    \"\"\"\n    Create a function that demonstrates adding and removing items from a list.\n    \n    Expected Output:\n    After adding colors: ['blue', 'red', 'green']\n    After removing second color: ['blue', 'green']\n    \"\"\"\n    # TODO: Start with an empty list\n    # TODO: Add your favorite color using append()\n    # TODO: Add two more colors using append()\n    # TODO: Print the list after adding colors\n    # TODO: Remove the second color (index 1) using pop()\n    # TODO: Print the final list\n    pass\n\n# Test your function\n# Uncomment the line below to test your function\n# practice_list_operations()",
   "metadata": {},
   "outputs": [],
   "execution_count": null
  },
  {
   "cell_type": "markdown",
   "source": "### Exercise 4: Nested lists\nCreate a list representing a tic-tac-toe board (3x3 grid). Access and print the center element.",
   "metadata": {}
  },
  {
   "cell_type": "code",
   "source": "def create_tic_tac_toe_board():\n    \"\"\"\n    Create a function that creates a tic-tac-toe board and accesses the center element.\n    \n    Expected Output:\n    Tic-Tac-Toe Board:\n    [['X', 'O', 'X'], \n     ['O', 'X', 'O'], \n     ['X', 'O', 'X']]\n    Center element: X\n    \"\"\"\n    # TODO: Create a 3x3 nested list representing a tic-tac-toe board\n    # TODO: Use 'X', 'O', or ' ' for empty spaces\n    # TODO: Print the board\n    # TODO: Access and print the center element (row 1, column 1)\n    pass\n\n# Test your function\n# Uncomment the line below to test your function\n# create_tic_tac_toe_board()",
   "metadata": {},
   "outputs": [],
   "execution_count": null
  },
  {
   "cell_type": "markdown",
   "source": "### Exercise 5: List modification\nCreate a list of numbers [1, 2, 3, 4, 5]. Modify it to double each number in place (without creating a new list).",
   "metadata": {}
  },
  {
   "cell_type": "code",
   "source": "def double_list_numbers():\n    \"\"\"\n    Create a function that doubles each number in a list in place.\n    \n    Expected Output:\n    Original list: [1, 2, 3, 4, 5]\n    Modified list: [2, 4, 6, 8, 10]\n    \"\"\"\n    # TODO: Create a list of numbers [1, 2, 3, 4, 5]\n    # TODO: Use a loop to modify each element in place (multiply by 2)\n    # TODO: Print original and modified lists\n    pass\n\n# Test your function\n# Uncomment the line below to test your function\n# double_list_numbers()",
   "metadata": {},
   "outputs": [],
   "execution_count": null
  }
 ],
 "metadata": {
  "kernelspec": {
   "display_name": "Python (Pyodide)",
   "language": "python",
   "name": "python"
  },
  "language_info": {
   "codemirror_mode": {
    "name": "python",
    "version": 3
   },
   "file_extension": ".py",
   "mimetype": "text/x-python",
   "name": "python",
   "nbconvert_exporter": "python",
   "pygments_lexer": "ipython3",
   "version": "3.9.5"
  }
 },
 "nbformat": 4,
 "nbformat_minor": 4
}
