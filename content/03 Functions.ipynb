{
 "cells": [
  {
   "cell_type": "markdown",
   "metadata": {},
   "source": [
    "# Functions\n",
    "\n",
    "A **function** is a self-contained block of code that encapsulates a specific task or related group of tasks."
   ]
  },
  {
   "metadata": {},
   "cell_type": "markdown",
   "source": [
    "## Syntax\n",
    "\n",
    "Create functions with the `def` keyword. A function can have zero or more arguments.\n",
    "\n",
    "To use a function, you need to _call_ it. A function call consists of the function name and\n",
    "its arguments.\n",
    "\n",
    "A function can also optionally _return_ a value to the caller by using the `return` keyword."
   ]
  },
  {
   "cell_type": "code",
   "metadata": {},
   "source": [
    "def add(x, y):\n",
    "    print(f\"x is {x} and y is {y}\")\n",
    "    return x + y\n",
    "\n",
    "result = add(5, 6)\n",
    "print(f\"Result: {result}\")\n",
    "\n",
    "# Another way to call functions is with keyword arguments\n",
    "result2 = add(y=6, x=5)  # Keyword arguments can arrive in any order.\n",
    "print(f\"Result2: {result2}\")"
   ],
   "outputs": [],
   "execution_count": null
  },
  {
   "cell_type": "markdown",
   "metadata": {},
   "source": [
    "### Positional arguments\n",
    "\n",
    "The most straightforward way to pass arguments to a Python function is with **positional arguments** (also called **required arguments**)."
   ]
  },
  {
   "cell_type": "code",
   "metadata": {},
   "source": [
    "def format_item_price(qty, item, price):\n",
    "    print(f\"{qty} {item} cost ${price} each\")\n",
    "    \n",
    "# Call with positional arguments (order matters)\n",
    "format_item_price(3, \"apples\", 1.25)"
   ],
   "outputs": [],
   "execution_count": null
  },
  {
   "cell_type": "markdown",
   "metadata": {},
   "source": [
    "### Keyword arguments\n",
    "\n",
    "Functions can also be called by specifying arguments in the form of `<keyword>=<value>`."
   ]
  },
  {
   "cell_type": "code",
   "metadata": {},
   "source": "format_item_price(price=1.74, qty=6, item=\"bananas\")",
   "outputs": [],
   "execution_count": null
  },
  {
   "metadata": {},
   "cell_type": "markdown",
   "source": "Positional and keyword arguments can be combined, but positional arguments must come first."
  },
  {
   "metadata": {},
   "cell_type": "code",
   "source": "format_item_price(2, item=\"oranges\", price=0.99)",
   "outputs": [],
   "execution_count": null
  },
  {
   "cell_type": "markdown",
   "source": "## Test your knowledge\n\nGenerate test questions by clicking on the code block below and then pressing `Ctrl + Enter`.",
   "metadata": {}
  },
  {
   "cell_type": "code",
   "source": "import micropip\nawait micropip.install('jupyterquiz')\n\nfrom jupyterquiz import display_quiz\ndisplay_quiz('assets/quizzes/03-functions-quiz.json')",
   "metadata": {},
   "outputs": [],
   "execution_count": null
  },
  {
   "cell_type": "markdown",
   "source": "## Write some code\n",
   "metadata": {}
  },
  {
   "metadata": {},
   "cell_type": "markdown",
   "source": [
    "### Exercise 1: Basic function\n",
    "Write a function called `greet_user` that takes a name as a parameter and prints \"Hello, [name]!\". Call the function with your name.\n",
    "\n",
    "**Expected Output:**\n",
    "```\n",
    "Hello, Alice!\n",
    "```"
   ]
  },
  {
   "metadata": {},
   "cell_type": "code",
   "source": "# Write your code here",
   "outputs": [],
   "execution_count": null
  },
  {
   "cell_type": "markdown",
   "source": "### Exercise 2: Function with multiple parameters\nCreate a function called `calculate_area` that takes length and width as parameters and returns the area (length × width).\n\n**Expected Output:**\n```\nThe area is 35 square units\n```",
   "metadata": {}
  },
  {
   "cell_type": "code",
   "source": "def calculate_area(length, width):\n    \"\"\"\n    Create a function that calculates the area of a rectangle.\n    \n    Args:\n        length (float): The length of the rectangle\n        width (float): The width of the rectangle\n    \n    Returns:\n        float: The area (length × width)\n    \"\"\"\n    # TODO: Calculate and return the area\n    pass\n\n# Test your function\n# Uncomment the lines below to test your function\n# area = calculate_area(7, 5)\n# print(f\"The area is {area} square units\")",
   "metadata": {},
   "outputs": [],
   "execution_count": null
  },
  {
   "cell_type": "markdown",
   "source": "### Exercise 3: Function with keyword arguments\nCreate a function called `introduce` that takes name, age, and city as parameters. Call it using keyword arguments in any order.\n\n**Expected Output:**\n```\nHi, I'm Alice, I'm 25 years old and I live in New York\n```",
   "metadata": {}
  },
  {
   "cell_type": "code",
   "source": "def introduce(name, age, city):\n    \"\"\"\n    Create a function that introduces a person with their name, age, and city.\n    \n    Args:\n        name (str): The person's name\n        age (int): The person's age\n        city (str): The city where the person lives\n    \n    Returns:\n        str: An introduction message\n    \"\"\"\n    # TODO: Return the introduction message\n    pass\n\n# Test your function using keyword arguments\n# Uncomment the line below to test your function\n# print(introduce(city=\"New York\", name=\"Alice\", age=25))",
   "metadata": {},
   "outputs": [],
   "execution_count": null
  },
  {
   "cell_type": "markdown",
   "source": "### Exercise 4: Function that prints and returns\nCreate a function called `double_and_print` that takes a number, prints the doubled value, and also returns the doubled value.\n\n**Expected Output:**\n```\nThe doubled value is: 20\nReturned value: 20\n```",
   "metadata": {}
  },
  {
   "cell_type": "code",
   "source": [
    "def double_and_print(number):\n",
    "    \"\"\"\n",
    "    Create a function that doubles a number, prints the result, and returns the doubled value.\n",
    "    \n",
    "    Args:\n",
    "        number (int or float): The number to double\n",
    "    \n",
    "    Returns:\n",
    "        int or float: The doubled value\n",
    "    \"\"\"\n",
    "    # TODO: Calculate the doubled value\n",
    "    # TODO: Print a statement to show the doubled value\n",
    "    # TODO: Return the doubled value\n",
    "    pass\n",
    "\n",
    "# Test your function\n",
    "# Uncomment the lines below to test your function\n",
    "# result = double_and_print(10)\n",
    "# print(f\"Returned value: {result}\")"
   ],
   "metadata": {},
   "outputs": [],
   "execution_count": null
  },
  {
   "cell_type": "markdown",
   "source": "### Exercise 5: Temperature converter\nCreate a function called `celsius_to_fahrenheit` that converts Celsius to Fahrenheit using the formula: F = (C × 9/5) + 32\n\n**Expected Output:**\n```\n25°C is equal to 77.0°F\n```",
   "metadata": {}
  },
  {
   "cell_type": "code",
   "source": "def celsius_to_fahrenheit(celsius):\n    \"\"\"\n    Create a function that converts temperature from Celsius to Fahrenheit.\n    Formula: F = (C × 9/5) + 32\n    \n    Args:\n        celsius (float): Temperature in Celsius\n    \n    Returns:\n        float: Temperature in Fahrenheit\n    \"\"\"\n    # TODO: Apply the conversion formula and return the result\n    pass\n\n# Test your function\n# Uncomment the lines below to test your function\n# temp_c = 25\n# temp_f = celsius_to_fahrenheit(temp_c)\n# print(f\"{temp_c}°C is equal to {temp_f}°F\")",
   "metadata": {},
   "outputs": [],
   "execution_count": null
  }
 ],
 "metadata": {
  "kernelspec": {
   "display_name": "Python (Pyodide)",
   "language": "python",
   "name": "python"
  },
  "language_info": {
   "codemirror_mode": {
    "name": "python",
    "version": 3
   },
   "file_extension": ".py",
   "mimetype": "text/x-python",
   "name": "python",
   "nbconvert_exporter": "python",
   "pygments_lexer": "ipython3",
   "version": "3.9.5"
  }
 },
 "nbformat": 4,
 "nbformat_minor": 4
}
