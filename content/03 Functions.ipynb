{
 "cells": [
  {
   "cell_type": "markdown",
   "metadata": {},
   "source": [
    "# Functions\n",
    "\n",
    "A **function** is a self-contained block of code that encapsulates a specific task or related group of tasks."
   ]
  },
  {
   "metadata": {},
   "cell_type": "markdown",
   "source": [
    "## Syntax\n",
    "\n",
    "Create functions with the `def` keyword. A function can have zero or more arguments.\n",
    "\n",
    "To use a function, you need to _call_ it. A function call consists of the function name and\n",
    "its arguments.\n",
    "\n",
    "A function can also optionally _return_ a value to the caller by using the `return` keyword."
   ]
  },
  {
   "cell_type": "code",
   "execution_count": null,
   "metadata": {},
   "source": [
    "def add(x, y):\n",
    "    print(f\"x is {x} and y is {y}\")\n",
    "    return x + y\n",
    "\n",
    "result = add(5, 6)\n",
    "print(f\"Result: {result}\")\n",
    "\n",
    "# Another way to call functions is with keyword arguments\n",
    "result2 = add(y=6, x=5)  # Keyword arguments can arrive in any order.\n",
    "print(f\"Result2: {result2}\")"
   ],
   "outputs": []
  },
  {
   "cell_type": "markdown",
   "metadata": {},
   "source": [
    "### Positional arguments\n",
    "\n",
    "The most straightforward way to pass arguments to a Python function is with **positional arguments** (also called **required arguments**)."
   ]
  },
  {
   "cell_type": "code",
   "metadata": {},
   "source": [
    "def format_item_price(qty, item, price):\n",
    "    print(f\"{qty} {item} cost ${price} each\")\n",
    "    \n",
    "# Call with positional arguments (order matters)\n",
    "format_item_price(3, \"apples\", 1.25)"
   ],
   "outputs": [],
   "execution_count": null
  },
  {
   "cell_type": "markdown",
   "metadata": {},
   "source": [
    "### Keyword arguments\n",
    "\n",
    "Functions can also be called by specifying arguments in the form of `<keyword>=<value>`."
   ]
  },
  {
   "cell_type": "code",
   "metadata": {},
   "source": "format_item_price(qty=6, item=\"bananas\", price=1.74)",
   "outputs": [],
   "execution_count": null
  },
  {
   "metadata": {},
   "cell_type": "markdown",
   "source": "Positional and keyword arguments can be combined, but positional arguments must come first."
  },
  {
   "metadata": {},
   "cell_type": "code",
   "source": "format_item_price(2, item=\"oranges\", price=0.99)",
   "outputs": [],
   "execution_count": null
  },
  {
   "cell_type": "markdown",
   "source": "## Test your knowledge\n\nGenerate test questions by clicking on the code block below and then pressing `Ctrl + Enter`.",
   "metadata": {}
  },
  {
   "cell_type": "code",
   "source": "import micropip\nawait micropip.install('jupyterquiz')\n\nfrom jupyterquiz import display_quiz\ndisplay_quiz('assets/quizzes/03-functions-quiz.json')",
   "metadata": {},
   "outputs": []
  },
  {
   "cell_type": "markdown",
   "source": "## Practice Exercises\n\nComplete these exercises to practice what you've learned (should take about 15 minutes total):\n\n### Exercise 1: Simple function\nCreate a function called `greet` that takes a name as parameter and returns \"Hello, [name]!\". Call the function with your name.\n\n**Expected Output:**\n```\nHello, Alice!\n```",
   "metadata": {},
   "outputs": []
  },
  {
   "cell_type": "code",
   "source": "# Write your code here",
   "metadata": {},
   "outputs": []
  },
  {
   "cell_type": "markdown",
   "source": "### Exercise 2: Function with multiple parameters\nCreate a function called `calculate_area` that takes length and width as parameters and returns the area (length × width).\n\n**Expected Output:**\n```\nThe area is 35 square units\n```",
   "metadata": {},
   "outputs": []
  },
  {
   "cell_type": "code",
   "source": "# Write your code here",
   "metadata": {},
   "outputs": []
  },
  {
   "cell_type": "markdown",
   "source": "### Exercise 3: Function with keyword arguments\nCreate a function called `introduce` that takes name, age, and city as parameters. Call it using keyword arguments in any order.\n\n**Expected Output:**\n```\nHi, I'm Alice, I'm 25 years old and I live in New York\n```",
   "metadata": {},
   "outputs": []
  },
  {
   "cell_type": "code",
   "source": "# Write your code here",
   "metadata": {},
   "outputs": []
  },
  {
   "cell_type": "markdown",
   "source": "### Exercise 4: Function that prints and returns\nCreate a function called `double_and_print` that takes a number, prints the doubled value, and also returns the doubled value.\n\n**Expected Output:**\n```\nThe doubled value is: 20\nReturned value: 20\n```",
   "metadata": {},
   "outputs": []
  },
  {
   "cell_type": "code",
   "source": "# Write your code here",
   "metadata": {},
   "outputs": []
  },
  {
   "cell_type": "markdown",
   "source": "### Exercise 5: Temperature converter\nCreate a function called `celsius_to_fahrenheit` that converts Celsius to Fahrenheit using the formula: F = (C × 9/5) + 32\n\n**Expected Output:**\n```\n25°C is equal to 77.0°F\n```",
   "metadata": {},
   "outputs": []
  },
  {
   "cell_type": "code",
   "source": "# Write your code here",
   "metadata": {},
   "outputs": []
  }
 ],
 "metadata": {
  "kernelspec": {
   "display_name": "Python (Pyodide)",
   "language": "python",
   "name": "python"
  },
  "language_info": {
   "codemirror_mode": {
    "name": "python",
    "version": 3
   },
   "file_extension": ".py",
   "mimetype": "text/x-python",
   "name": "python",
   "nbconvert_exporter": "python",
   "pygments_lexer": "ipython3",
   "version": "3.9.5"
  }
 },
 "nbformat": 4,
 "nbformat_minor": 4
}