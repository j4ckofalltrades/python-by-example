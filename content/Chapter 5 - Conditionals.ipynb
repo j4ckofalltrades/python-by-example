{
 "cells": [
  {
   "cell_type": "markdown",
   "metadata": {},
   "source": [
    "# Conditionals\n",
    "\n",
    "## Conditionals\n",
    "\n",
    "### Boolean (or Logical) Operators"
   ]
  },
  {
   "cell_type": "code",
   "execution_count": null,
   "metadata": {},
   "source": [
    "# Note \"and\" and \"or\" are case-sensitive\n",
    "print(True and False)  # => False\n",
    "print(False or True)   # => True\n",
    "\n",
    "# negate with not\n",
    "print(not True)   # => False\n",
    "print(not False)  # => True"
   ],
   "outputs": []
  },
  {
   "cell_type": "markdown",
   "metadata": {},
   "source": [
    "### `and` Truth Table\n",
    "\n",
    "| X     | Y     | X and Y |\n",
    "| ----- | ----- | ------- |\n",
    "| True  | True  | True    |\n",
    "| True  | False | False   |\n",
    "| False | True  | False   |\n",
    "| False | False | False   |\n",
    "\n",
    "### `or` Truth Table\n",
    "\n",
    "| X     | Y     | X or Y |\n",
    "| ----- | ----- | ------ |\n",
    "| True  | True  | True   |\n",
    "| True  | False | True   |\n",
    "| False | True  | True   |\n",
    "| False | False | False  |\n",
    "\n",
    "### `not` Truth Table\n",
    "\n",
    "| X     | not(X) |\n",
    "| ----- | ------ |\n",
    "| True  | False  |\n",
    "| False | True   |\n",
    "\n",
    "### Comparison Operators"
   ]
  },
  {
   "cell_type": "code",
   "execution_count": null,
   "metadata": {},
   "source": [
    "# Equality is ==\n",
    "print(1 == 1)  # => True\n",
    "print(2 == 1)  # => False\n",
    "\n",
    "# Inequality is !=\n",
    "print(1 != 1)  # => False\n",
    "print(2 != 1)  # => True\n",
    "\n",
    "# More comparisons\n",
    "print(1 < 10)  # => True\n",
    "print(1 > 10)  # => False\n",
    "print(2 <= 2)  # => True\n",
    "print(2 >= 2)  # => True"
   ],
   "outputs": []
  },
  {
   "cell_type": "markdown",
   "metadata": {},
   "source": [
    "### Control Flow"
   ]
  },
  {
   "cell_type": "code",
   "execution_count": null,
   "metadata": {},
   "source": [
    "some_var = 5\n",
    "\n",
    "# Here is an if statement. Indentation is significant in Python!\n",
    "# This prints \"some_var is smaller than 10\"\n",
    "if some_var > 10:\n",
    "    print(\"some_var is totally bigger than 10.\")\n",
    "elif some_var < 10:    # This elif clause is optional.\n",
    "    print(\"some_var is smaller than 10.\")\n",
    "else:                  # This is optional too.\n",
    "    print(\"some_var is indeed 10.\")"
   ],
   "outputs": []
  },
  {
   "cell_type": "code",
   "execution_count": null,
   "metadata": {},
   "source": [
    "# Try changing this value and run the cell again\n",
    "user_age = 16\n",
    "\n",
    "if user_age < 13:\n",
    "    print(\"You're a child.\")\n",
    "elif user_age < 18:\n",
    "    print(\"You're a teenager.\")\n",
    "elif user_age < 65:\n",
    "    print(\"You're an adult.\")\n",
    "else:\n",
    "    print(\"You're a senior.\")"
   ],
   "outputs": []
  },
  {
   "cell_type": "markdown",
   "metadata": {},
   "source": [
    "### Truthiness and Falsiness\n",
    "\n",
    "What values are considered _falsy_? (Check with the `bool` function.)\n",
    "\n",
    "- Zero values of any numeric type e.g. `0`, `0.0`\n",
    "- Empty strings `\"\"`\n",
    "- Empty collections e.g. `list`, `set`, `tuple`, `dict`\n",
    "- `None`\n",
    "- `False`"
   ]
  },
  {
   "cell_type": "code",
   "execution_count": null,
   "metadata": {},
   "source": [
    "# Testing truthiness with bool()\n",
    "print(\"bool(0):\", bool(0))              # False\n",
    "print(\"bool(0.0):\", bool(0.0))          # False\n",
    "print(\"bool(\\\"\\\"):\", bool(\"\"))          # False\n",
    "print(\"bool([]):\", bool([]))            # False\n",
    "print(\"bool({}):\", bool({}))            # False\n",
    "print(\"bool(()):\", bool(()))            # False\n",
    "print(\"bool(None):\", bool(None))        # False\n",
    "print(\"bool(False):\", bool(False))      # False\n",
    "\n",
    "# Everything else is truthy\n",
    "print(\"bool(1):\", bool(1))              # True\n",
    "print(\"bool(-1):\", bool(-1))            # True\n",
    "print(\"bool(\\\"hello\\\"):\", bool(\"hello\"))  # True\n",
    "print(\"bool([0]):\", bool([0]))          # True (non-empty list)\n",
    "print(\"bool({0}):\", bool({0}))          # True (non-empty set)"
   ],
   "outputs": []
  },
  {
   "cell_type": "code",
   "execution_count": null,
   "metadata": {},
   "source": [
    "# Using truthiness in conditionals\n",
    "values = [0, 42, \"\", \"hello\", [], [1, 2, 3]]\n",
    "\n",
    "for val in values:\n",
    "    if val:\n",
    "        print(f\"Value '{val}' is truthy\")\n",
    "    else:\n",
    "        print(f\"Value '{val}' is falsy\")"
   ],
   "outputs": []
  }
 ],
 "metadata": {
  "kernelspec": {
   "display_name": "Python (Pyodide)",
   "language": "python",
   "name": "python"
  },
  "language_info": {
   "codemirror_mode": {
    "name": "python",
    "version": 3
   },
   "file_extension": ".py",
   "mimetype": "text/x-python",
   "name": "python",
   "nbconvert_exporter": "python",
   "pygments_lexer": "ipython3",
   "version": "3.9.5"
  }
 },
 "nbformat": 4,
 "nbformat_minor": 4
}
