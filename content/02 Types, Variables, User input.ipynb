{
 "cells": [
  {
   "cell_type": "markdown",
   "metadata": {},
   "source": [
    "# Built-in Types, Variables, User input\n",
    "\n",
    "Python ships with several **built-in data types** that you can use out of the box.\n",
    "\n",
    "| Type  | Description                                                   |\n",
    "|-------|---------------------------------------------------------------|\n",
    "| int   | Integers  - whole numbers                                     |\n",
    "| float | Floating point numbers - decimal values or fractional numbers |\n",
    "| str   | Strings - textual data e.g. sequence of characters            |\n",
    "| bool  | Boolean - represents truth value i.e. `True` or `False`       |"
   ]
  },
  {
   "metadata": {},
   "cell_type": "markdown",
   "source": [
    "## Integers\n",
    "\n",
    "Integers are whole numbers with no decimal places, they can be positive or negative."
   ]
  },
  {
   "cell_type": "code",
   "execution_count": null,
   "metadata": {},
   "source": [
    "print(42)\n",
    "print(-1)"
   ],
   "outputs": []
  },
  {
   "metadata": {},
   "cell_type": "markdown",
   "source": [
    "## Floating-point numbers\n",
    "\n",
    "`float` are numbers with a decimal place, they can be positive or negative."
   ]
  },
  {
   "metadata": {},
   "cell_type": "code",
   "source": [
    "print(1.5)\n",
    "print(-13.37)"
   ],
   "outputs": [],
   "execution_count": null
  },
  {
   "cell_type": "markdown",
   "metadata": {},
   "source": "## Strings"
  },
  {
   "metadata": {},
   "cell_type": "markdown",
   "source": "Strings are created with \" or ' (must come in pairs)."
  },
  {
   "cell_type": "code",
   "execution_count": null,
   "metadata": {},
   "source": [
    "print(\"This is a string.\")\n",
    "print('This is also a string.')"
   ],
   "outputs": []
  },
  {
   "metadata": {},
   "cell_type": "markdown",
   "source": "Strings can be combined by using the `+` operator."
  },
  {
   "metadata": {},
   "cell_type": "code",
   "outputs": [],
   "source": "print(\"Hello, \" + \"world!\")  # => \"Hello world!\"",
   "execution_count": null
  },
  {
   "cell_type": "markdown",
   "metadata": {},
   "source": [
    "## `f-strings` Or Formatted String Literals\n",
    "\n",
    "`f-strings` allow you to substie values into your strings and format them as you need."
   ]
  },
  {
   "cell_type": "code",
   "execution_count": null,
   "metadata": {},
   "source": [
    "band = \"blink-182\"\n",
    "print(f\"Pop-punk band from SoCal: {band}\")"
   ],
   "outputs": []
  },
  {
   "metadata": {},
   "cell_type": "markdown",
   "source": "Any valid expression inside the curly braces is returned to the string."
  },
  {
   "metadata": {},
   "cell_type": "code",
   "outputs": [],
   "execution_count": null,
   "source": "print(f\"2 + 2 = {2 + 2}\")"
  },
  {
   "cell_type": "markdown",
   "metadata": {},
   "source": "## Booleans"
  },
  {
   "cell_type": "code",
   "execution_count": null,
   "metadata": {},
   "source": [
    "print(True)\n",
    "print(False)"
   ],
   "outputs": []
  },
  {
   "metadata": {},
   "cell_type": "markdown",
   "source": "Generally used for comparisons, more on the **Conditionals** section."
  },
  {
   "metadata": {},
   "cell_type": "code",
   "outputs": [],
   "execution_count": null,
   "source": [
    "print(1 == 1)\n",
    "print(2 == 1)\n",
    "print(1 != 1)\n",
    "print(2 != 1)"
   ]
  },
  {
   "cell_type": "markdown",
   "metadata": {},
   "source": [
    "## The `None` Type\n",
    "\n",
    "`None` is used to denote the absence of a value."
   ]
  },
  {
   "cell_type": "code",
   "execution_count": null,
   "metadata": {},
   "source": [
    "print(None)\n",
    "\n",
    "# Use \"is\" when performing comparisons\n",
    "print(\"etc\" is None)  # => False\n",
    "print(None is None)   # => True"
   ],
   "outputs": []
  },
  {
   "metadata": {},
   "cell_type": "markdown",
   "source": "## Variables"
  },
  {
   "metadata": {},
   "cell_type": "code",
   "outputs": [],
   "execution_count": null,
   "source": [
    "name = \"Alice\"\n",
    "age = 25\n",
    "is_student = True\n",
    "height = 1.65\n",
    "\n",
    "print(f\"{name} is {age} years old.\")\n",
    "print(f\"Student status: {is_student}\")\n",
    "print(f\"Height: {height} meters\")"
   ]
  },
  {
   "metadata": {},
   "cell_type": "markdown",
   "source": [
    "## User input\n",
    "\n",
    "The `input()` function allows us to get user input from the console by returning the user input as a string.\n",
    "\n",
    "Note: _In this JupyterLite environment, it will create a text input box._"
   ]
  },
  {
   "metadata": {},
   "cell_type": "code",
   "outputs": [],
   "execution_count": null,
   "source": [
    "fave_music_genre = input(\"Favorite music genre? \")\n",
    "print(f\"You said your favorite genre is: {fave_music_genre}\")"
   ]
  }
 ],
 "metadata": {
  "kernelspec": {
   "display_name": "Python (Pyodide)",
   "language": "python",
   "name": "python"
  },
  "language_info": {
   "codemirror_mode": {
    "name": "python",
    "version": 3
   },
   "file_extension": ".py",
   "mimetype": "text/x-python",
   "name": "python",
   "nbconvert_exporter": "python",
   "pygments_lexer": "ipython3",
   "version": "3.9.5"
  }
 },
 "nbformat": 4,
 "nbformat_minor": 4
}
