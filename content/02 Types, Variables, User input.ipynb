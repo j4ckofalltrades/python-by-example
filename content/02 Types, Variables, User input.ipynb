{
 "cells": [
  {
   "cell_type": "markdown",
   "metadata": {},
   "source": [
    "# Built-in Types, Variables, User input\n",
    "\n",
    "Python ships with several **built-in data types** that you can use out of the box.\n",
    "\n",
    "| Type  | Description                                                   |\n",
    "|-------|---------------------------------------------------------------|\n",
    "| int   | Integers  - whole numbers                                     |\n",
    "| float | Floating point numbers - decimal values or fractional numbers |\n",
    "| str   | Strings - textual data e.g. sequence of characters            |\n",
    "| bool  | Boolean - represents truth value i.e. `True` or `False`       |"
   ]
  },
  {
   "metadata": {},
   "cell_type": "markdown",
   "source": [
    "## Integers\n",
    "\n",
    "Integers are whole numbers with no decimal places, they can be positive or negative."
   ]
  },
  {
   "cell_type": "code",
   "execution_count": null,
   "metadata": {},
   "source": [
    "print(42)\n",
    "print(-1)"
   ],
   "outputs": []
  },
  {
   "metadata": {},
   "cell_type": "markdown",
   "source": [
    "## Floating-point numbers\n",
    "\n",
    "`float` are numbers with a decimal place, they can be positive or negative."
   ]
  },
  {
   "metadata": {},
   "cell_type": "code",
   "source": [
    "print(1.5)\n",
    "print(-13.37)"
   ],
   "outputs": [],
   "execution_count": null
  },
  {
   "cell_type": "markdown",
   "metadata": {},
   "source": "## Strings"
  },
  {
   "metadata": {},
   "cell_type": "markdown",
   "source": "Strings are created with \" or ' (must come in pairs)."
  },
  {
   "cell_type": "code",
   "execution_count": null,
   "metadata": {},
   "source": [
    "print(\"This is a string.\")\n",
    "print('This is also a string.')"
   ],
   "outputs": []
  },
  {
   "metadata": {},
   "cell_type": "markdown",
   "source": "Strings can be combined by using the `+` operator."
  },
  {
   "metadata": {},
   "cell_type": "code",
   "outputs": [],
   "source": "print(f\"Hello, world!\")  # Using f-string for consistency",
   "execution_count": null
  },
  {
   "cell_type": "markdown",
   "metadata": {},
   "source": [
    "## `f-strings` Or Formatted String Literals\n",
    "\n",
    "`f-strings` allow you to substie values into your strings and format them as you need."
   ]
  },
  {
   "cell_type": "code",
   "execution_count": null,
   "metadata": {},
   "source": [
    "band = \"blink-182\"\n",
    "print(f\"Pop-punk band from SoCal: {band}\")"
   ],
   "outputs": []
  },
  {
   "metadata": {},
   "cell_type": "markdown",
   "source": "Any valid expression inside the curly braces is returned to the string."
  },
  {
   "metadata": {},
   "cell_type": "code",
   "outputs": [],
   "execution_count": null,
   "source": "print(f\"2 + 2 = {2 + 2}\")"
  },
  {
   "cell_type": "markdown",
   "metadata": {},
   "source": "## Booleans"
  },
  {
   "cell_type": "code",
   "execution_count": null,
   "metadata": {},
   "source": [
    "print(True)\n",
    "print(False)"
   ],
   "outputs": []
  },
  {
   "metadata": {},
   "cell_type": "markdown",
   "source": "Generally used for comparisons, more on the **Conditionals** section."
  },
  {
   "metadata": {},
   "cell_type": "code",
   "outputs": [],
   "execution_count": null,
   "source": [
    "print(1 == 1)\n",
    "print(2 == 1)\n",
    "print(1 != 1)\n",
    "print(2 != 1)"
   ]
  },
  {
   "cell_type": "markdown",
   "metadata": {},
   "source": [
    "## The `None` Type\n",
    "\n",
    "`None` is used to denote the absence of a value."
   ]
  },
  {
   "cell_type": "code",
   "execution_count": null,
   "metadata": {},
   "source": [
    "print(None)\n",
    "\n",
    "# Use \"is\" when performing comparisons\n",
    "print(\"etc\" is None)  # => False\n",
    "print(None is None)   # => True"
   ],
   "outputs": []
  },
  {
   "metadata": {},
   "cell_type": "markdown",
   "source": "## Variables"
  },
  {
   "metadata": {},
   "cell_type": "code",
   "outputs": [],
   "execution_count": null,
   "source": [
    "name = \"Alice\"\n",
    "age = 25\n",
    "is_student = True\n",
    "height = 1.65\n",
    "\n",
    "print(f\"{name} is {age} years old.\")\n",
    "print(f\"Student status: {is_student}\")\n",
    "print(f\"Height: {height} meters\")"
   ]
  },
  {
   "metadata": {},
   "cell_type": "markdown",
   "source": [
    "## User input\n",
    "\n",
    "The `input()` function allows us to get user input from the console by returning the user input as a string.\n",
    "\n",
    "Note: _In this JupyterLite environment, it will create a text input box._"
   ]
  },
  {
   "metadata": {},
   "cell_type": "code",
   "outputs": [],
   "execution_count": null,
   "source": [
    "fave_music_genre = input(\"Favorite music genre? \")\n",
    "print(f\"You said your favorite genre is: {fave_music_genre}\")"
   ]
  },
  {
   "cell_type": "markdown",
   "source": "## Test your knowledge\n\nGenerate test questions by clicking on the code block below and then pressing `Ctrl + Enter`.",
   "metadata": {}
  },
  {
   "cell_type": "code",
   "source": "import micropip\nawait micropip.install('jupyterquiz')\n\nfrom jupyterquiz import display_quiz\ndisplay_quiz('assets/quizzes/02-types-variables-input-quiz.json')",
   "metadata": {},
   "outputs": [],
   "execution_count": null
  },
  {
   "cell_type": "markdown",
   "source": "## Write some code\n",
   "metadata": {}
  },
  {
   "metadata": {},
   "cell_type": "markdown",
   "source": [
    "### Exercise 1: Variables and types\n",
    "Create variables for your name (string), age (integer), height in meters (float), and whether you're a student (boolean). Print each variable with a descriptive message.\n",
    "\n",
    "**Expected Output:**\n",
    "```\n",
    "Name: Alice\n",
    "Age: 25\n",
    "Height: 1.65 meters\n",
    "Student: True\n",
    "```"
   ]
  },
  {
   "metadata": {},
   "cell_type": "code",
   "outputs": [],
   "execution_count": null,
   "source": "# Write your code here"
  },
  {
   "cell_type": "markdown",
   "source": "### Exercise 2: String operations\nCreate two string variables with your first and last name. Use string concatenation (+) to create your full name and print it.\n\n**Expected Output:**\n```\nAlice Johnson\n```",
   "metadata": {}
  },
  {
   "cell_type": "code",
   "source": "# Write your code here",
   "metadata": {},
   "outputs": [],
   "execution_count": null
  },
  {
   "cell_type": "markdown",
   "source": "### Exercise 3: F-strings practice\nCreate variables for your favorite movie and the year it was released. Use an f-string to print: \"My favorite movie is [movie] from [year]\"\n\n**Expected Output:**\n```\nMy favorite movie is The Matrix from 1999\n```",
   "metadata": {}
  },
  {
   "cell_type": "code",
   "source": "# Write your code here",
   "metadata": {},
   "outputs": [],
   "execution_count": null
  },
  {
   "cell_type": "markdown",
   "source": "### Exercise 4: User input\nAsk the user for their favorite color and favorite number, then use an f-string to print: \"Your favorite color is [color] and your favorite number is [number]\"\n\n**Expected Input:**\n```\nWhat is your favorite color? blue\nWhat is your favorite number? 42\n```\n\n**Expected Output:**\n```\nYour favorite color is blue and your favorite number is 42\n```",
   "metadata": {}
  },
  {
   "cell_type": "code",
   "source": "# Write your user input code here",
   "metadata": {},
   "outputs": [],
   "execution_count": null
  },
  {
   "metadata": {},
   "cell_type": "code",
   "outputs": [],
   "execution_count": null,
   "source": "# Write your f-string and print code here"
  },
  {
   "cell_type": "markdown",
   "source": "### Exercise 5: Math with f-strings\nCreate two number variables. Use an f-string to print their sum, difference, and product in a single sentence.\n\n**Expected Output:**\n```\nWith numbers 15 and 7: sum is 22, difference is 8, and product is 105\n```",
   "metadata": {}
  },
  {
   "cell_type": "code",
   "source": "# Write your code here",
   "metadata": {},
   "outputs": [],
   "execution_count": null
  }
 ],
 "metadata": {
  "kernelspec": {
   "display_name": "Python (Pyodide)",
   "language": "python",
   "name": "python"
  },
  "language_info": {
   "codemirror_mode": {
    "name": "python",
    "version": 3
   },
   "file_extension": ".py",
   "mimetype": "text/x-python",
   "name": "python",
   "nbconvert_exporter": "python",
   "pygments_lexer": "ipython3",
   "version": "3.9.5"
  }
 },
 "nbformat": 4,
 "nbformat_minor": 4
}
