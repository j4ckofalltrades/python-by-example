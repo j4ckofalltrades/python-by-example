{
 "cells": [
  {
   "cell_type": "markdown",
   "metadata": {},
   "source": [
    "# Functions\n",
    "\n",
    "## Functions\n",
    "\n",
    "In programming, a **function** is a self-contained block of code that encapsulates a specific task or related group of tasks.\n",
    "\n",
    "### Syntax"
   ]
  },
  {
   "cell_type": "code",
   "execution_count": null,
   "metadata": {},
   "source": [
    "# Use \"def\" to create new functions\n",
    "def add(x, y):\n",
    "    print(f\"x is {x} and y is {y}\")\n",
    "    return x + y  # Return values with a return statement\n",
    "\n",
    "# Calling functions with parameters\n",
    "result = add(5, 6)  # => prints out \"x is 5 and y is 6\" and returns 11\n",
    "print(f\"Result: {result}\")\n",
    "\n",
    "# Another way to call functions is with keyword arguments\n",
    "result2 = add(y=6, x=5)  # Keyword arguments can arrive in any order.\n",
    "print(f\"Result2: {result2}\")"
   ],
   "outputs": []
  },
  {
   "cell_type": "markdown",
   "metadata": {},
   "source": [
    "### Positional Arguments\n",
    "\n",
    "The most straightforward way to pass arguments to a Python function is with **positional arguments** (also called **required arguments**)."
   ]
  },
  {
   "cell_type": "code",
   "execution_count": null,
   "metadata": {},
   "source": [
    "def format_item_price(qty, item, price):\n",
    "    print(f\"{qty} {item} cost ${price:.2f}\")\n",
    "    \n",
    "# Call with positional arguments (order matters)\n",
    "format_item_price(3, \"apples\", 1.25)"
   ],
   "outputs": []
  },
  {
   "cell_type": "markdown",
   "metadata": {},
   "source": [
    "### Keyword Arguments\n",
    "\n",
    "Functions can also be called by specifying arguments in the form of `<keyword>=<value>`."
   ]
  },
  {
   "cell_type": "code",
   "execution_count": null,
   "metadata": {},
   "source": [
    "# Using the same function with keyword arguments (order doesn't matter)\n",
    "format_item_price(qty=6, item=\"bananas\", price=1.74)\n",
    "# 6 bananas cost $1.74\n",
    "\n",
    "# Can mix positional and keyword arguments, but positional must come first\n",
    "format_item_price(2, item=\"oranges\", price=0.99)"
   ],
   "outputs": []
  },
  {
   "cell_type": "markdown",
   "metadata": {},
   "source": [
    "### Scope"
   ]
  },
  {
   "cell_type": "code",
   "execution_count": null,
   "metadata": {},
   "source": [
    "# global scope\n",
    "x = 5\n",
    "print(f\"Global x before function: {x}\")\n",
    "\n",
    "def set_x(num):\n",
    "    # local scope begins here\n",
    "    # local var x not the same as global var x\n",
    "    x = num    # => 43\n",
    "    print(f\"Local x in function: {x}\")   # => 43\n",
    "    \n",
    "set_x(43)\n",
    "print(f\"Global x after function: {x}\")  # Still 5, because the function created a local x"
   ],
   "outputs": []
  },
  {
   "cell_type": "code",
   "execution_count": null,
   "metadata": {},
   "source": [
    "# If you want to modify a global variable from inside a function,\n",
    "# you need to use the 'global' keyword\n",
    "\n",
    "y = 10\n",
    "print(f\"Global y before function: {y}\")\n",
    "\n",
    "def modify_global_y(num):\n",
    "    global y  # This tells Python we want to use the global y\n",
    "    y = num\n",
    "    print(f\"Modified y in function: {y}\")\n",
    "    \n",
    "modify_global_y(20)\n",
    "print(f\"Global y after function: {y}\")  # Now it's 20"
   ],
   "outputs": []
  }
 ],
 "metadata": {
  "kernelspec": {
   "display_name": "Python (Pyodide)",
   "language": "python",
   "name": "python"
  },
  "language_info": {
   "codemirror_mode": {
    "name": "python",
    "version": 3
   },
   "file_extension": ".py",
   "mimetype": "text/x-python",
   "name": "python",
   "nbconvert_exporter": "python",
   "pygments_lexer": "ipython3",
   "version": "3.9.5"
  }
 },
 "nbformat": 4,
 "nbformat_minor": 4
}
