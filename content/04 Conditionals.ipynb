{
 "cells": [
  {
   "cell_type": "markdown",
   "metadata": {},
   "source": "# Conditionals"
  },
  {
   "metadata": {},
   "cell_type": "markdown",
   "source": [
    "\n",
    "## Boolean (or Logical) Operators"
   ]
  },
  {
   "cell_type": "markdown",
   "metadata": {},
   "source": [
    "### `and` Truth Table\n",
    "\n",
    "| X     | Y     | X and Y |\n",
    "|-------|-------|---------|\n",
    "| True  | True  | True    |\n",
    "| True  | False | False   |\n",
    "| False | True  | False   |\n",
    "| False | False | False   |\n",
    "\n",
    "### `or` Truth Table\n",
    "\n",
    "| X     | Y     | X or Y |\n",
    "|-------|-------|--------|\n",
    "| True  | True  | True   |\n",
    "| True  | False | True   |\n",
    "| False | True  | True   |\n",
    "| False | False | False  |\n",
    "\n",
    "### `not` Truth Table\n",
    "\n",
    "| X     | not(X) |\n",
    "|-------|--------|\n",
    "| True  | False  |\n",
    "| False | True   |"
   ]
  },
  {
   "metadata": {},
   "cell_type": "code",
   "outputs": [],
   "execution_count": null,
   "source": [
    "print(True and False)\n",
    "print(False or True)\n",
    "print(not True)\n",
    "print(not False)"
   ]
  },
  {
   "metadata": {},
   "cell_type": "markdown",
   "source": [
    "### Comparison Operators\n",
    "\n",
    "- The equality operator is `==`\n",
    "- The inequality operator is `!=`\n",
    "- The greater than and less than operators are `>` and `<` respectively\n",
    "- The greater than or equal to and less than or equal to operators are `>=` and `<=` respectively"
   ]
  },
  {
   "cell_type": "code",
   "execution_count": null,
   "metadata": {},
   "source": [
    "print(1 == 1)\n",
    "print(2 == 1)\n",
    "\n",
    "print(1 != 1)\n",
    "print(2 != 1)\n",
    "\n",
    "print(1 < 10)\n",
    "print(1 > 10)\n",
    "print(2 <= 2)\n",
    "print(2 >= 2)"
   ],
   "outputs": []
  },
  {
   "metadata": {},
   "cell_type": "markdown",
   "source": [
    "### Control Flow\n",
    "\n",
    "The `if`, `elif`, and `else` keywords can be used to execute code only when certain conditions are met.\n",
    "\n",
    "Note: `elif` and `else` are optional.\n",
    "\n",
    "```text\n",
    "if <expr>:\n",
    "    # code that is executed when the `if` expression is true\n",
    "elif <other_expr>:\n",
    "    # code that is executed when the `elif` expression is true\n",
    "else:\n",
    "    # code that is executed when the `if` and `elif` expressions are false\n",
    "```"
   ]
  },
  {
   "cell_type": "code",
   "metadata": {},
   "source": [
    "# Try changing this value and run the cell again\n",
    "some_var = 5\n",
    "\n",
    "if some_var > 10:\n",
    "    print(\"some_var is larger than 10.\")\n",
    "elif some_var < 10:\n",
    "    print(\"some_var is smaller than 10.\")\n",
    "else:\n",
    "    print(\"some_var is indeed 10.\")"
   ],
   "outputs": [],
   "execution_count": null
  },
  {
   "cell_type": "markdown",
   "metadata": {},
   "source": [
    "### Truthiness and Falsiness\n",
    "\n",
    "What values are considered _falsy_? (Check with the `bool` function.)\n",
    "\n",
    "- Zero values of any numeric type e.g. `0`, `0.0`\n",
    "- Empty strings `\"\"`\n",
    "- Empty collections e.g. `list`, `set`, `tuple`, `dict`\n",
    "- `None`\n",
    "- `False`"
   ]
  },
  {
   "metadata": {},
   "cell_type": "markdown",
   "source": "The following are examples of _falsy_ values."
  },
  {
   "cell_type": "code",
   "metadata": {},
   "source": [
    "print(\"bool(0):\", bool(0))\n",
    "print(\"bool(0.0):\", bool(0.0))\n",
    "print(\"bool(\\\"\\\"):\", bool(\"\"))\n",
    "print(\"bool([]):\", bool([]))\n",
    "print(\"bool({}):\", bool({}))\n",
    "print(\"bool(()):\", bool(()))\n",
    "print(\"bool(None):\", bool(None))\n",
    "print(\"bool(False):\", bool(False))"
   ],
   "outputs": [],
   "execution_count": null
  },
  {
   "metadata": {},
   "cell_type": "markdown",
   "source": "The following are examples of _truthy values."
  },
  {
   "metadata": {},
   "cell_type": "code",
   "outputs": [],
   "execution_count": null,
   "source": [
    "print(\"bool(1):\", bool(1))\n",
    "print(\"bool(-1):\", bool(-1))\n",
    "print(\"bool(\\\"hello\\\"):\", bool(\"hello\"))\n",
    "print(\"bool([0]):\", bool([0]))\n",
    "print(\"bool({0}):\", bool({0}))"
   ]
  },
  {
   "cell_type": "markdown",
   "source": "## Test your knowledge\n\nGenerate test questions by clicking on the code block below and then pressing `Ctrl + Enter`.",
   "metadata": {}
  },
  {
   "cell_type": "code",
   "source": "import micropip\nawait micropip.install('jupyterquiz')\n\nfrom jupyterquiz import display_quiz\ndisplay_quiz('assets/quizzes/04-conditionals-quiz.json')",
   "metadata": {},
   "outputs": []
  },
  {
   "cell_type": "markdown",
   "source": "## Write some code\n\n1. **Number comparison**: Write a program that compares two numbers and prints which one is larger, or if they're equal.\n\n2. **Age categories**: Write a program that categorizes people by age: child (0-12), teenager (13-19), adult (20-64), senior (65+).\n\n3. **Boolean logic**: Write a program that checks if a number is between 10 and 20 (inclusive) using boolean operators.\n\n4. **Grade calculator**: Write a program that takes a score (0-100) and prints the corresponding letter grade (A, B, C, D, F).\n\n5. **Truthiness**: Write a program that checks if a list is empty and prints appropriate messages using truthiness.",
   "metadata": {},
   "outputs": []
  },
  {
   "cell_type": "code",
   "source": "def check_number_sign():\n    \"\"\"\n    Create a function that asks the user for a number and determines if it's positive, negative, or zero.\n    \n    Expected Output:\n    Enter a number: 5\n    The number is positive.\n    \"\"\"\n    # TODO: Get user input and convert to number\n    # TODO: Use if/elif/else to check if positive, negative, or zero\n    # TODO: Print appropriate message\n    pass\n\n# Test your function\n# Uncomment the line below to test your function\n# check_number_sign()",
   "metadata": {},
   "outputs": []
  },
  {
   "cell_type": "markdown",
   "source": "### Exercise 2: Age categories\nCreate a program that categorizes someone's age: child (0-12), teenager (13-19), adult (20-64), or senior (65+).",
   "metadata": {}
  },
  {
   "cell_type": "code",
   "source": "def categorize_age(age):\n    \"\"\"\n    Create a function that categorizes someone's age into different life stages.\n    \n    Args:\n        age (int): The person's age\n    \n    Returns:\n        str: The age category (child, teenager, adult, or senior)\n    \n    Categories:\n    - child: 0-12\n    - teenager: 13-19  \n    - adult: 20-64\n    - senior: 65+\n    \"\"\"\n    # TODO: Use if/elif/else to categorize the age\n    # TODO: Return the appropriate category\n    pass\n\n# Test your function\nage = 25  # Change this value to test different ages\n# Uncomment the lines below to test your function\n# category = categorize_age(age)\n# print(f\"A {age}-year-old is classified as: {category}\")",
   "metadata": {},
   "outputs": []
  },
  {
   "cell_type": "markdown",
   "source": "### Exercise 3: Boolean logic\nCreate variables for weather conditions (is_sunny, is_warm) and write code that recommends an activity based on the conditions.",
   "metadata": {}
  },
  {
   "cell_type": "code",
   "source": "def recommend_activity(is_sunny, is_warm):\n    \"\"\"\n    Create a function that recommends an activity based on weather conditions.\n    \n    Args:\n        is_sunny (bool): Whether it's sunny\n        is_warm (bool): Whether it's warm\n    \n    Returns:\n        str: Activity recommendation\n    \n    Expected Output for different combinations:\n    - Sunny and warm: \"Go to the beach!\"\n    - Sunny but not warm: \"Go for a hike!\"\n    - Not sunny but warm: \"Visit a museum!\"\n    - Not sunny and not warm: \"Stay inside and read!\"\n    \"\"\"\n    # TODO: Use boolean logic (and, or) to determine activity\n    # TODO: Return appropriate recommendation\n    pass\n\n# Test your function\nis_sunny = True\nis_warm = False\n# Uncomment the lines below to test your function\n# activity = recommend_activity(is_sunny, is_warm)\n# print(f\"Weather: Sunny={is_sunny}, Warm={is_warm}\")\n# print(f\"Recommendation: {activity}\")",
   "metadata": {},
   "outputs": []
  },
  {
   "cell_type": "markdown",
   "source": "### Exercise 4: Grade calculator\nWrite a program that converts a numerical grade (0-100) to a letter grade (A: 90-100, B: 80-89, C: 70-79, D: 60-69, F: below 60).",
   "metadata": {}
  },
  {
   "cell_type": "code",
   "source": "def convert_grade_to_letter(grade):\n    \"\"\"\n    Create a function that converts a numerical grade to a letter grade.\n    \n    Args:\n        grade (int): Numerical grade (0-100)\n    \n    Returns:\n        str: Letter grade\n    \n    Grade Scale:\n    - A: 90-100\n    - B: 80-89\n    - C: 70-79\n    - D: 60-69\n    - F: below 60\n    \"\"\"\n    # TODO: Use if/elif/else to determine letter grade\n    # TODO: Return the letter grade\n    pass\n\n# Test your function\ngrade = 85  # Change this to test different grades\n# Uncomment the lines below to test your function\n# letter = convert_grade_to_letter(grade)\n# print(f\"Grade {grade} converts to: {letter}\")",
   "metadata": {},
   "outputs": []
  },
  {
   "cell_type": "markdown",
   "source": "### Exercise 5: Truthiness check\nTest the truthiness of different values by using `bool()` on: an empty string, a string with spaces, the number 0, and an empty list [].",
   "metadata": {}
  },
  {
   "cell_type": "code",
   "source": "def test_truthiness():\n    \"\"\"\n    Create a function that tests the truthiness of different values using bool().\n    \n    Expected Output:\n    Empty string '': False\n    String with spaces '   ': True\n    Number 0: False\n    Empty list []: False\n    \"\"\"\n    # TODO: Create variables for each test case\n    # TODO: Use bool() to test truthiness and print results\n    pass\n\n# Test your function\n# Uncomment the line below to test your function\n# test_truthiness()",
   "metadata": {},
   "outputs": []
  }
 ],
 "metadata": {
  "kernelspec": {
   "display_name": "Python (Pyodide)",
   "language": "python",
   "name": "python"
  },
  "language_info": {
   "codemirror_mode": {
    "name": "python",
    "version": 3
   },
   "file_extension": ".py",
   "mimetype": "text/x-python",
   "name": "python",
   "nbconvert_exporter": "python",
   "pygments_lexer": "ipython3",
   "version": "3.9.5"
  }
 },
 "nbformat": 4,
 "nbformat_minor": 4
}