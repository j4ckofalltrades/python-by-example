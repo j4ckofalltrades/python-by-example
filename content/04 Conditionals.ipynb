{
 "cells": [
  {
   "cell_type": "markdown",
   "metadata": {},
   "source": "# Conditionals"
  },
  {
   "metadata": {},
   "cell_type": "markdown",
   "source": [
    "\n",
    "## Boolean (or Logical) Operators"
   ]
  },
  {
   "cell_type": "markdown",
   "metadata": {},
   "source": [
    "### `and` Truth Table\n",
    "\n",
    "| X     | Y     | X and Y |\n",
    "|-------|-------|---------|\n",
    "| True  | True  | True    |\n",
    "| True  | False | False   |\n",
    "| False | True  | False   |\n",
    "| False | False | False   |\n",
    "\n",
    "### `or` Truth Table\n",
    "\n",
    "| X     | Y     | X or Y |\n",
    "|-------|-------|--------|\n",
    "| True  | True  | True   |\n",
    "| True  | False | True   |\n",
    "| False | True  | True   |\n",
    "| False | False | False  |\n",
    "\n",
    "### `not` Truth Table\n",
    "\n",
    "| X     | not(X) |\n",
    "|-------|--------|\n",
    "| True  | False  |\n",
    "| False | True   |"
   ]
  },
  {
   "metadata": {},
   "cell_type": "code",
   "outputs": [],
   "execution_count": null,
   "source": [
    "print(True and False)\n",
    "print(False or True)\n",
    "print(not True)\n",
    "print(not False)"
   ]
  },
  {
   "metadata": {},
   "cell_type": "markdown",
   "source": [
    "### Comparison Operators\n",
    "\n",
    "- The equality operator is `==`\n",
    "- The inequality operator is `!=`\n",
    "- The greater than and less than operators are `>` and `<` respectively\n",
    "- The greater than or equal to and less than or equal to operators are `>=` and `<=` respectively"
   ]
  },
  {
   "cell_type": "code",
   "execution_count": null,
   "metadata": {},
   "source": [
    "print(1 == 1)\n",
    "print(2 == 1)\n",
    "\n",
    "print(1 != 1)\n",
    "print(2 != 1)\n",
    "\n",
    "print(1 < 10)\n",
    "print(1 > 10)\n",
    "print(2 <= 2)\n",
    "print(2 >= 2)"
   ],
   "outputs": []
  },
  {
   "metadata": {},
   "cell_type": "markdown",
   "source": [
    "### Control Flow\n",
    "\n",
    "The `if`, `elif`, and `else` keywords can be used to execute code only when certain conditions are met.\n",
    "\n",
    "Note: `elif` and `else` are optional.\n",
    "\n",
    "```text\n",
    "if <expr>:\n",
    "    # code that is executed when the `if` expression is true\n",
    "elif <other_expr>:\n",
    "    # code that is executed when the `elif` expression is true\n",
    "else:\n",
    "    # code that is executed when the `if` and `elif` expressions are false\n",
    "```"
   ]
  },
  {
   "cell_type": "code",
   "metadata": {},
   "source": [
    "# Try changing this value and run the cell again\n",
    "some_var = 5\n",
    "\n",
    "if some_var > 10:\n",
    "    print(\"some_var is larger than 10.\")\n",
    "elif some_var < 10:\n",
    "    print(\"some_var is smaller than 10.\")\n",
    "else:\n",
    "    print(\"some_var is indeed 10.\")"
   ],
   "outputs": [],
   "execution_count": null
  },
  {
   "cell_type": "markdown",
   "metadata": {},
   "source": [
    "### Truthiness and Falsiness\n",
    "\n",
    "What values are considered _falsy_? (Check with the `bool` function.)\n",
    "\n",
    "- Zero values of any numeric type e.g. `0`, `0.0`\n",
    "- Empty strings `\"\"`\n",
    "- Empty collections e.g. `list`, `set`, `tuple`, `dict`\n",
    "- `None`\n",
    "- `False`"
   ]
  },
  {
   "metadata": {},
   "cell_type": "markdown",
   "source": "The following are examples of _falsy_ values."
  },
  {
   "cell_type": "code",
   "metadata": {},
   "source": [
    "print(\"bool(0):\", bool(0))\n",
    "print(\"bool(0.0):\", bool(0.0))\n",
    "print(\"bool(\\\"\\\"):\", bool(\"\"))\n",
    "print(\"bool([]):\", bool([]))\n",
    "print(\"bool({}):\", bool({}))\n",
    "print(\"bool(()):\", bool(()))\n",
    "print(\"bool(None):\", bool(None))\n",
    "print(\"bool(False):\", bool(False))"
   ],
   "outputs": [],
   "execution_count": null
  },
  {
   "metadata": {},
   "cell_type": "markdown",
   "source": "The following are examples of _truthy values."
  },
  {
   "metadata": {},
   "cell_type": "code",
   "outputs": [],
   "execution_count": null,
   "source": [
    "print(\"bool(1):\", bool(1))\n",
    "print(\"bool(-1):\", bool(-1))\n",
    "print(\"bool(\\\"hello\\\"):\", bool(\"hello\"))\n",
    "print(\"bool([0]):\", bool([0]))\n",
    "print(\"bool({0}):\", bool({0}))"
   ]
  },
  {
   "cell_type": "markdown",
   "source": "## Test your knowledge\n\nGenerate test questions by clicking on the code block below and then pressing `Ctrl + Enter`.",
   "metadata": {}
  },
  {
   "cell_type": "code",
   "source": "import micropip\nawait micropip.install('jupyterquiz')\n\nfrom jupyterquiz import display_quiz\ndisplay_quiz('assets/quizzes/04-conditionals-quiz.json')",
   "metadata": {},
   "outputs": []
  },
  {
   "cell_type": "markdown",
   "source": "## Practice Exercises\n\nComplete these exercises to practice what you've learned (should take about 15 minutes total):\n\n### Exercise 1: Number comparison\nWrite code that asks the user for a number, then prints whether it's positive, negative, or zero.",
   "metadata": {}
  },
  {
   "cell_type": "code",
   "source": "# Write your code here",
   "metadata": {},
   "outputs": []
  },
  {
   "cell_type": "markdown",
   "source": "### Exercise 2: Age categories\nCreate a program that categorizes someone's age: child (0-12), teenager (13-19), adult (20-64), or senior (65+).",
   "metadata": {}
  },
  {
   "cell_type": "code",
   "source": "age = 25  # Change this value to test different ages\n# Write your conditional logic here",
   "metadata": {},
   "outputs": []
  },
  {
   "cell_type": "markdown",
   "source": "### Exercise 3: Boolean logic\nCreate variables for weather conditions (is_sunny, is_warm) and write code that recommends an activity based on the conditions.",
   "metadata": {}
  },
  {
   "cell_type": "code",
   "source": "is_sunny = True\nis_warm = False\n# Write your logic here (e.g., if sunny and warm: \"Go to the beach\")",
   "metadata": {},
   "outputs": []
  },
  {
   "cell_type": "markdown",
   "source": "### Exercise 4: Grade calculator\nWrite a program that converts a numerical grade (0-100) to a letter grade (A: 90-100, B: 80-89, C: 70-79, D: 60-69, F: below 60).",
   "metadata": {}
  },
  {
   "cell_type": "code",
   "source": "grade = 85  # Change this to test different grades\n# Write your conditional logic here",
   "metadata": {},
   "outputs": []
  },
  {
   "cell_type": "markdown",
   "source": "### Exercise 5: Truthiness check\nTest the truthiness of different values by using `bool()` on: an empty string, a string with spaces, the number 0, and an empty list [].",
   "metadata": {}
  },
  {
   "cell_type": "code",
   "source": "# Test truthiness of different values here",
   "metadata": {},
   "outputs": []
  }
 ],
 "metadata": {
  "kernelspec": {
   "display_name": "Python (Pyodide)",
   "language": "python",
   "name": "python"
  },
  "language_info": {
   "codemirror_mode": {
    "name": "python",
    "version": 3
   },
   "file_extension": ".py",
   "mimetype": "text/x-python",
   "name": "python",
   "nbconvert_exporter": "python",
   "pygments_lexer": "ipython3",
   "version": "3.9.5"
  }
 },
 "nbformat": 4,
 "nbformat_minor": 4
}