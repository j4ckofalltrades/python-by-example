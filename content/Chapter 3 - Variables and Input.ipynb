{
 "cells": [
  {
   "cell_type": "markdown",
   "metadata": {},
   "source": [
    "# Variables and Input\n",
    "\n",
    "## Variables"
   ]
  },
  {
   "cell_type": "code",
   "execution_count": null,
   "metadata": {},
   "source": [
    "# Convention in naming variables is the snake_case style.\n",
    "some_var = 5\n",
    "print(some_var)  # => 5\n",
    "\n",
    "# The `=` is the assignment operator.\n",
    "# The left-hand side is where the variable name is defined.\n",
    "# The right-hand side is the value being assigned to the variable.\n",
    "\n",
    "# Examples of variable assignments\n",
    "name = \"Alice\"\n",
    "age = 25\n",
    "is_student = True\n",
    "height = 1.65\n",
    "\n",
    "print(f\"{name} is {age} years old.\")\n",
    "print(f\"Student status: {is_student}\")\n",
    "print(f\"Height: {height} meters\")"
   ],
   "outputs": []
  },
  {
   "cell_type": "markdown",
   "metadata": {},
   "source": [
    "## User Input\n",
    "\n",
    "The `input()` function allows us to get user input from the console. In this Jupyter environment, it will create a text input box."
   ]
  },
  {
   "cell_type": "code",
   "execution_count": null,
   "metadata": {},
   "source": [
    "# Note: In JupyterLite, this will create an input box\n",
    "fave_music_genre = input(\"Favorite music genre? \")\n",
    "print(f\"You said your favorite genre is: {fave_music_genre}\")\n",
    "\n",
    "# The `input` function returns a string."
   ],
   "outputs": []
  },
  {
   "cell_type": "markdown",
   "metadata": {},
   "source": [
    "## Error Handling"
   ]
  },
  {
   "cell_type": "code",
   "execution_count": null,
   "metadata": {},
   "source": [
    "# Handle exceptions with a try/except block\n",
    "user_input_raw = input(\"Please enter a number: \")\n",
    "try:\n",
    "    user_input_number = float(user_input_raw)\n",
    "    print(f\"You entered the number: {user_input_number}\")\n",
    "    print(f\"Double that number is: {user_input_number * 2}\")\n",
    "except ValueError:\n",
    "    print(f\"You entered an invalid number: {user_input_raw}\")"
   ],
   "outputs": []
  },
  {
   "cell_type": "markdown",
   "metadata": {},
   "source": [
    "Try entering both valid numbers (like 42 or 3.14) and invalid inputs (like \"hello\") in the cell above to see how error handling works."
   ]
  }
 ],
 "metadata": {
  "kernelspec": {
   "display_name": "Python (Pyodide)",
   "language": "python",
   "name": "python"
  },
  "language_info": {
   "codemirror_mode": {
    "name": "python",
    "version": 3
   },
   "file_extension": ".py",
   "mimetype": "text/x-python",
   "name": "python",
   "nbconvert_exporter": "python",
   "pygments_lexer": "ipython3",
   "version": "3.9.5"
  }
 },
 "nbformat": 4,
 "nbformat_minor": 4
}
